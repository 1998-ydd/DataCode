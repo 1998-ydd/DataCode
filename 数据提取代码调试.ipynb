{
 "cells": [
  {
   "cell_type": "code",
   "execution_count": 13,
   "id": "83ed4391-9953-477f-a717-aa222de3cd80",
   "metadata": {
    "tags": []
   },
   "outputs": [],
   "source": [
    "import numpy as np\n",
    "import pandas as pd\n",
    "\n",
    "import sys\n",
    "import os\n",
    "import re\n",
    "\n",
    "def gendict(namelist:list)->dict:\n",
    "    return {item:[] for item in namelist}"
   ]
  },
  {
   "cell_type": "code",
   "execution_count": 96,
   "id": "d189ccfe",
   "metadata": {},
   "outputs": [],
   "source": [
    "path = \"log20240704.txt\""
   ]
  },
  {
   "cell_type": "code",
   "execution_count": 99,
   "id": "bb5143f1",
   "metadata": {},
   "outputs": [],
   "source": [
    "with open(path, \"r\") as f:\n",
    "    for line in f:\n",
    "        if keyword_vec[0] in line:\n",
    "            get_angle(TopVec,line)\n"
   ]
  },
  {
   "cell_type": "code",
   "execution_count": 100,
   "id": "dcc4f8b1",
   "metadata": {},
   "outputs": [
    {
     "data": {
      "text/plain": [
       "{'time': ['2024-07-04 00:01:50.382',\n",
       "  '2024-07-04 00:03:17.962',\n",
       "  '2024-07-04 00:05:36.295',\n",
       "  '2024-07-04 00:07:21.091',\n",
       "  '2024-07-04 00:09:56.786'],\n",
       " 'TopVec': ['11820.2491723578',\n",
       "  '11820.4604020905',\n",
       "  '11820.4002768141',\n",
       "  '11820.2741025502',\n",
       "  '11803.4966941716']}"
      ]
     },
     "execution_count": 100,
     "metadata": {},
     "output_type": "execute_result"
    }
   ],
   "source": [
    "TopVec"
   ]
  },
  {
   "cell_type": "code",
   "execution_count": 98,
   "id": "9e0ac649",
   "metadata": {},
   "outputs": [],
   "source": [
    "#TopDieMark计算相关关键字\n",
    "keyword_top = [\n",
    "           \"左侧TopDieMark1定位 PR执行结果\",\n",
    "           \"左侧上视左标定片阵列Mark定位 PR执行结果\",\n",
    "           \"左侧TopDieMark2定位 PR执行结果\",\n",
    "           \"左侧上视右标定片阵列Mark定位 PR执行结果\",\n",
    "            ]\n",
    "#存储TopDieMark\n",
    "TopDieMark1 = gendict([\"time\",\"TopDieMark1X\",\"TopDieMark1Y\"])\n",
    "TopDieMark2 = gendict([\"time\",\"TopDieMark2X\",\"TopDieMark2Y\"])\n",
    "\n",
    "#存储上视看左右标定片\n",
    "UpLookLeftMarks = gendict([\"time\"]+[f\"UpLookLeftMark{i//2 + 1}X\" if i % 2 == 1 else f\"UpLookLeftMark{i//2}Y\" for i in range(1, 33)])\n",
    "UpLookRightMarks = gendict([\"time\"]+[f\"UpLookRightMarks{i//2 + 1}X\" if i % 2 == 1 else f\"UpLookRightMarks{i//2}Y\" for i in range(1, 33)])\n",
    "#BotDieMark计算相关关键字\n",
    "keyword_bot = [\n",
    "           \"左侧BottomDieMark1定位 PR执行结果\",\n",
    "           \"左侧左下视标定片阵列Mark定位 PR执行结果\",\n",
    "           \"左侧BottomDieMark2定位 PR执行结果\",\n",
    "           \"左侧右下视标定片阵列Mark定位 PR执行结果\",\n",
    "            ]\n",
    "BottomDieMark1 = gendict([\"time\",\"BottomDieMark1X\",\"BottomDieMark1Y\"])\n",
    "BottomDieMark2 = gendict([\"time\",\"BottomDieMark2X\",\"BottomDieMark2Y\"])\n",
    "DownLookLeftMarks = gendict([\"time\"]+[f\"DownLookLeftMarks{i//2 + 1}X\" if i % 2 == 1 else f\"DownLookLeftMarks{i//2}Y\" for i in range(1, 33)])\n",
    "DownLookRightMarks = gendict([\"time\"]+[f\"DownLookRightMarks{i//2 + 1}X\" if i % 2 == 1 else f\"DownLookRightMarks{i//2}Y\" for i in range(1, 33)])\n",
    "#角度校正关键字\n",
    "keyword_angle = [\n",
    "        \"LeftBondModule第1次角度校正\",\n",
    "        \"LeftBondModule第2次角度校正\",\n",
    "        \"LeftBondModule第3次角度校正\"\n",
    "        ]\n",
    "angle1 = gendict([\"time\",\"angle1\"])\n",
    "angle2 = gendict([\"time\",\"angle2\"])\n",
    "angle3 = gendict([\"time\",\"angle3\"])\n",
    "#偏移校正关键字\n",
    "keyword_offset = [\n",
    "        \"LeftBondModule第1次轴位置调整\",\n",
    "        \"LeftBondModule第2次轴位置调整\",\n",
    "        \"LeftBondModule轴位置校正完成，剩余压电残差\",\n",
    "        \"校正结束时间\"\n",
    "        ]\n",
    "Offset1 = gendict([\"time\",\"Offset1X\",\"Offset1Y\"])\n",
    "Offset2 = gendict([\"time\",\"Offset2X\",\"Offset2Y\"])\n",
    "YD = gendict([\"time\",\"YDX\",\"YDY\"])\n",
    "EndTime = gendict([\"time\",\"Cost\"])\n",
    "\n",
    "#工艺参数\n",
    "keyword_process = [\n",
    "        \"LeftBondModule - 当前力控值\",\n",
    "        \"记录上次键合位置为\"\n",
    "]\n",
    "Process = gendict([\"time\",\"Force\",\"High\"])\n",
    "LastPos = gendict([\"time\",\"LastX\",\"LastY\"])\n",
    "\n",
    "#Dielength\n",
    "keyword_vec = [\n",
    "           \"Top vec length\",\n",
    "           \"Bottom vec length\",\n",
    "           \"topVecAngle\",\n",
    "           \"bottomVecAngle\"\n",
    "           ]\n",
    "TopVec = {'time':[],'TopVec':[]}\n",
    "BottomVec = {'time':[],'BottomVec':[]}\n",
    "topVecAngle = {'time':[],'topVecAngle':[]}\n",
    "bottomVecAngle = {'time':[],'bottomVecAngle':[]}\n"
   ]
  },
  {
   "cell_type": "code",
   "execution_count": 16,
   "id": "2cfbe15f",
   "metadata": {},
   "outputs": [
    {
     "data": {
      "text/plain": [
       "{'time': ['2024-07-04 00:00:11.501'],\n",
       " 'UpLookLeftMark1X': ['1315.5395495550238'],\n",
       " 'UpLookLeftMark1Y': ['2226.3568670432828'],\n",
       " 'UpLookLeftMark2X': ['1406.2616329926414'],\n",
       " 'UpLookLeftMark2Y': ['2512.2398030435456'],\n",
       " 'UpLookLeftMark3X': ['1496.8005502289429'],\n",
       " 'UpLookLeftMark3Y': ['2798.3218416963159'],\n",
       " 'UpLookLeftMark4X': ['1587.5114616189999'],\n",
       " 'UpLookLeftMark4Y': ['3084.1876568389639'],\n",
       " 'UpLookLeftMark5X': ['1601.2008154922169'],\n",
       " 'UpLookLeftMark5Y': ['2135.5084836469682'],\n",
       " 'UpLookLeftMark6X': ['1691.73145472355'],\n",
       " 'UpLookLeftMark6Y': ['2421.3318262192593'],\n",
       " 'UpLookLeftMark7X': ['1782.2992097915039'],\n",
       " 'UpLookLeftMark7Y': ['2707.2728754542727'],\n",
       " 'UpLookLeftMark8X': ['1872.9074529144818'],\n",
       " 'UpLookLeftMark8Y': ['2993.2661546921304'],\n",
       " 'UpLookLeftMark9X': ['1887.1893646439835'],\n",
       " 'UpLookLeftMark9Y': ['2044.75120160045'],\n",
       " 'UpLookLeftMark10X': ['1977.8362238968355'],\n",
       " 'UpLookLeftMark10Y': ['2330.772823500949'],\n",
       " 'UpLookLeftMark11X': ['2068.3268406755983'],\n",
       " 'UpLookLeftMark11Y': ['2616.7689495288018'],\n",
       " 'UpLookLeftMark12X': ['2158.8000068138003'],\n",
       " 'UpLookLeftMark12Y': ['2902.7627626534081'],\n",
       " 'UpLookLeftMark13X': ['2173.0389273155238'],\n",
       " 'UpLookLeftMark13Y': ['1954.567047661073'],\n",
       " 'UpLookLeftMark14X': ['2263.5208135702869'],\n",
       " 'UpLookLeftMark14Y': ['2240.3888167805767'],\n",
       " 'UpLookLeftMark15X': ['2353.956573202503'],\n",
       " 'UpLookLeftMark15Y': ['2526.2616452494121'],\n",
       " 'UpLookLeftMark16X': ['2444.5107615169536'],\n",
       " 'UpLookLeftMark16Y': ['2812.1923614820448']}"
      ]
     },
     "execution_count": 16,
     "metadata": {},
     "output_type": "execute_result"
    }
   ],
   "source": [
    "# 输入的字符串\n",
    "line = '2024-07-04 00:00:11.501 +08:00 [INF] 左侧上视右标定片阵列Mark定位 PR执行结果：{\"匹配点\":[{\"X\":1315.5395495550238,\"Y\":2226.3568670432828,\"Angle\":0.0},{\"X\":1406.2616329926414,\"Y\":2512.2398030435456,\"Angle\":0.0},{\"X\":1496.8005502289429,\"Y\":2798.3218416963159,\"Angle\":0.0},{\"X\":1587.5114616189999,\"Y\":3084.1876568389639,\"Angle\":0.0},{\"X\":1601.2008154922169,\"Y\":2135.5084836469682,\"Angle\":0.0},{\"X\":1691.73145472355,\"Y\":2421.3318262192593,\"Angle\":0.0},{\"X\":1782.2992097915039,\"Y\":2707.2728754542727,\"Angle\":0.0},{\"X\":1872.9074529144818,\"Y\":2993.2661546921304,\"Angle\":0.0},{\"X\":1887.1893646439835,\"Y\":2044.75120160045,\"Angle\":0.0},{\"X\":1977.8362238968355,\"Y\":2330.772823500949,\"Angle\":0.0},{\"X\":2068.3268406755983,\"Y\":2616.7689495288018,\"Angle\":0.0},{\"X\":2158.8000068138003,\"Y\":2902.7627626534081,\"Angle\":0.0},{\"X\":2173.0389273155238,\"Y\":1954.567047661073,\"Angle\":0.0},{\"X\":2263.5208135702869,\"Y\":2240.3888167805767,\"Angle\":0.0},{\"X\":2353.956573202503,\"Y\":2526.2616452494121,\"Angle\":0.0},{\"X\":2444.5107615169536,\"Y\":2812.1923614820448,\"Angle\":0.0}]}'\n",
    "UpLookLeftMarks = gendict([\"time\"]+[f\"UpLookLeftMark{i//2 + 1}X\" if i % 2 == 1 else f\"UpLookLeftMark{i//2}Y\" for i in range(1, 33)])\n",
    "\n",
    "def get_marklist(Dict,line):\n",
    "    Dict[\"time\"].append(line.split()[0] + \" \" + line.split()[1])\n",
    "    # 使用正则表达式提取所有包含至少8位数字的部分\n",
    "    pattern = r'\\d{3,}.\\d{6,}'\n",
    "    matches = re.findall(pattern, input_str)\n",
    "    keys = [i for i in Dict]\n",
    "    for i,j in zip(keys[1:],matches):\n",
    "        Dict[i].append(j)\n",
    "get_marklist(UpLookLeftMarks,line)\n",
    "UpLookLeftMarks"
   ]
  },
  {
   "cell_type": "code",
   "execution_count": 12,
   "id": "0d3e7d10",
   "metadata": {},
   "outputs": [
    {
     "data": {
      "text/plain": [
       "{'time': ['2024-07-04 22:52:42.342'],\n",
       " 'TopDieMark1X': ['2427.5696515922946'],\n",
       " 'TopDieMark1Y': ['4414.0279300509992']}"
      ]
     },
     "execution_count": 12,
     "metadata": {},
     "output_type": "execute_result"
    }
   ],
   "source": [
    "def get_diemark(Dict,line):\n",
    "    Dict[\"time\"].append(line.split()[0] + \" \" + line.split()[1])\n",
    "    pattern = r'\\d{3,}.\\d{6,}'\n",
    "    matches = re.findall(pattern, line)\n",
    "    keys = [i for i in Dict]\n",
    "    Dict[keys[1]].append(matches[0])\n",
    "    Dict[keys[2]].append(matches[1])\n",
    "line = '2024-07-04 22:52:42.342 +08:00 [INF] 左侧TopDieMark1定位_2 PR执行结果：{\"匹配点\":[{\"X\":2427.5696515922946,\"Y\":4414.0279300509992,\"Angle\":0.0}]}'\n",
    "\n",
    "TopDieMark1 = gendict([\"time\",\"TopDieMark1X\",\"TopDieMark1Y\"])\n",
    "get_diemark(TopDieMark1,line)\n",
    "TopDieMark1"
   ]
  },
  {
   "cell_type": "code",
   "execution_count": 25,
   "id": "2af5c5c7",
   "metadata": {},
   "outputs": [
    {
     "data": {
      "text/plain": [
       "{'time': ['2024-07-04 22:54:02.840'], 'angle1': ['-0.517601726621479']}"
      ]
     },
     "execution_count": 25,
     "metadata": {},
     "output_type": "execute_result"
    }
   ],
   "source": [
    "def get_angle(Dict,line):\n",
    "    Dict[\"time\"].append(line.split()[0] + \" \" + line.split()[1])\n",
    "    pattern = r'[-]?\\d{1,}.\\d{6,}'\n",
    "    matches = re.findall(pattern, line)\n",
    "    keys = [i for i in Dict]\n",
    "    Dict[keys[1]].append(matches[0])\n",
    "line = '2024-07-04 22:54:02.840 +08:00 [INF] LeftBondModule第1次角度校正，DD旋转角度：-0.517601726621479°'\n",
    "angle1 = gendict([\"time\",\"angle1\"])\n",
    "get_angle(angle1,line)\n",
    "angle1"
   ]
  },
  {
   "cell_type": "code",
   "execution_count": 33,
   "id": "68eddf55",
   "metadata": {},
   "outputs": [
    {
     "data": {
      "text/plain": [
       "{'time': ['2024-07-04 22:54:43.848'],\n",
       " 'Offset1X': ['405.134359656827'],\n",
       " 'Offset1Y': ['-461.865109922026']}"
      ]
     },
     "execution_count": 33,
     "metadata": {},
     "output_type": "execute_result"
    }
   ],
   "source": [
    "def get_offset(Dict,line):\n",
    "    Dict[\"time\"].append(line.split()[0] + \" \" + line.split()[1])\n",
    "    pattern = r'[-]?\\d{1,}.\\d{6,}'\n",
    "    matches = re.findall(pattern, line)\n",
    "    keys = [i for i in Dict]\n",
    "    Dict[keys[1]].append(matches[0])\n",
    "    Dict[keys[2]].append(matches[1])\n",
    "line = '2024-07-04 22:54:43.848 +08:00 [INF] LeftBondModule第1次轴位置调整：轴偏移[(405.134359656827, -461.865109922026)]um'\n",
    "Offset1 = gendict([\"time\",\"Offset1X\",\"Offset1Y\"])\n",
    "get_offset(Offset1,line)\n",
    "Offset1"
   ]
  },
  {
   "cell_type": "code",
   "execution_count": 34,
   "id": "b260af68",
   "metadata": {},
   "outputs": [
    {
     "data": {
      "text/plain": [
       "{'time': ['2024-07-04 22:54:58.430'],\n",
       " 'YDX': ['-0.459316293809083'],\n",
       " 'YDY': ['0.409140608931701']}"
      ]
     },
     "execution_count": 34,
     "metadata": {},
     "output_type": "execute_result"
    }
   ],
   "source": [
    "def get_offset(Dict,line):\n",
    "    Dict[\"time\"].append(line.split()[0] + \" \" + line.split()[1])\n",
    "    pattern = r'[-]?\\d{1,}.\\d{6,}'\n",
    "    matches = re.findall(pattern, line)\n",
    "    keys = [i for i in Dict]\n",
    "    Dict[keys[1]].append(matches[0])\n",
    "    Dict[keys[2]].append(matches[1])\n",
    "line = '2024-07-04 22:54:58.430 +08:00 [INF] LeftBondModule轴位置校正完成，剩余压电残差：(-0.459316293809083, 0.409140608931701)，压电开始运动'\n",
    "YD = gendict([\"time\",\"YDX\",\"YDY\"])\n",
    "get_offset(YD,line)\n",
    "YD"
   ]
  },
  {
   "cell_type": "code",
   "execution_count": 38,
   "id": "1be5c4b8",
   "metadata": {},
   "outputs": [
    {
     "data": {
      "text/plain": [
       "{'time': ['2024-07-04 22:54:58.445'], 'Cost': ['23936.4224']}"
      ]
     },
     "execution_count": 38,
     "metadata": {},
     "output_type": "execute_result"
    }
   ],
   "source": [
    "def get_endtime(Dict,line):\n",
    "    Dict[\"time\"].append(line.split()[0] + \" \" + line.split()[1])\n",
    "    pattern = r'\\d{3,}.\\d{3,}'\n",
    "    matches = re.findall(pattern, line)\n",
    "    keys = [i for i in Dict]\n",
    "    Dict[keys[1]].append(matches[0])\n",
    "line = '2024-07-04 22:54:58.445 +08:00 [INF] 校正结束时间=2024/7/4 22:54:58  耗时=23936.4224ms'\n",
    "EndTime = gendict([\"time\",\"Cost\"])\n",
    "get_endtime(EndTime,line)\n",
    "EndTime"
   ]
  },
  {
   "cell_type": "code",
   "execution_count": 79,
   "id": "61b82ff4",
   "metadata": {},
   "outputs": [
    {
     "data": {
      "text/plain": [
       "{'time': ['2024-07-04 23:11:15.961'],\n",
       " 'Force': ['399.1515'],\n",
       " 'High': ['-3174.15511263271']}"
      ]
     },
     "execution_count": 79,
     "metadata": {},
     "output_type": "execute_result"
    }
   ],
   "source": [
    "def get_process(Dict,line):\n",
    "    Dict[\"time\"].append(line.split()[0] + \" \" + line.split()[1])\n",
    "    pattern = r'[-]?\\d{3,}.\\d{3,}'\n",
    "    matches = re.findall(pattern, line)\n",
    "    keys = [i for i in Dict]\n",
    "    for i,j in zip(keys[1:],matches):\n",
    "        Dict[i].append(j)\n",
    "line = '2024-07-04 23:11:15.961 +08:00 [INF] LeftBondModule - 当前力控值：399.1515g, 高度：-3174.15511263271'\n",
    "Process = gendict([\"time\",\"Force\",\"High\"])\n",
    "get_process(Process,line)\n",
    "Process"
   ]
  },
  {
   "cell_type": "code",
   "execution_count": 80,
   "id": "92bc1285",
   "metadata": {},
   "outputs": [
    {
     "data": {
      "text/plain": [
       "{'time': ['2024-07-04 23:11:18.985'],\n",
       " 'LastX': ['240953.689790259'],\n",
       " 'LastY': ['39539.6122937511']}"
      ]
     },
     "execution_count": 80,
     "metadata": {},
     "output_type": "execute_result"
    }
   ],
   "source": [
    "def get_process(Dict,line):\n",
    "    Dict[\"time\"].append(line.split()[0] + \" \" + line.split()[1])\n",
    "    pattern = r'[-]?\\d{3,}.\\d{3,}'\n",
    "    matches = re.findall(pattern, line)\n",
    "    keys = [i for i in Dict]\n",
    "    for i,j in zip(keys[1:],matches):\n",
    "        Dict[i].append(j)\n",
    "line = '2024-07-04 23:11:18.985 +08:00 [INF] LeftBondModule - 记录上次键合位置为[240953.689790259, 39539.6122937511]'\n",
    "LastPos = gendict([\"time\",\"LastX\",\"LastY\"])\n",
    "get_process(LastPos,line)\n",
    "LastPos"
   ]
  },
  {
   "cell_type": "code",
   "execution_count": 94,
   "id": "da3ab83c",
   "metadata": {},
   "outputs": [
    {
     "data": {
      "text/plain": [
       "{'time': ['2024-07-04 23:11:33.979'], 'topVecAngle': ['1.62120383706849']}"
      ]
     },
     "execution_count": 94,
     "metadata": {},
     "output_type": "execute_result"
    }
   ],
   "source": [
    "def get_angle(Dict,line):\n",
    "    Dict[\"time\"].append(line.split()[0] + \" \" + line.split()[1])\n",
    "    pattern = r'[-]?\\d{1,}.\\d{6,}'\n",
    "    matches = re.findall(pattern, line)\n",
    "    keys = [i for i in Dict]\n",
    "    Dict[keys[1]].append(matches[0])\n",
    "line = '2024-07-04 23:11:33.979 +08:00 [INF] [校正角度]topVecAngle1.62120383706849'\n",
    "topVecAngle = {'time':[],'topVecAngle':[]}\n",
    "get_angle(topVecAngle,line)\n",
    "topVecAngle"
   ]
  },
  {
   "cell_type": "code",
   "execution_count": 101,
   "id": "c9ca5a32",
   "metadata": {},
   "outputs": [
    {
     "data": {
      "text/plain": [
       "{'time': ['2024-07-04 19:30:42.668'], 'TopVec': ['12400.6863934434']}"
      ]
     },
     "execution_count": 101,
     "metadata": {},
     "output_type": "execute_result"
    }
   ],
   "source": [
    "def get_angle(Dict,line):\n",
    "    Dict[\"time\"].append(line.split()[0] + \" \" + line.split()[1])\n",
    "    pattern = r'[-]?\\d{1,}.\\d{6,}'\n",
    "    matches = re.findall(pattern, line)\n",
    "    keys = [i for i in Dict]\n",
    "    Dict[keys[1]].append(matches[0])\n",
    "line = '2024-07-04 19:30:42.668 +08:00 [INF] Top Vec Length = 12400.6863934434'\n",
    "TopVec = {'time':[],'TopVec':[]}\n",
    "get_angle(TopVec,line)\n",
    "TopVec"
   ]
  },
  {
   "cell_type": "code",
   "execution_count": 56,
   "id": "c92b502a",
   "metadata": {},
   "outputs": [
    {
     "data": {
      "text/plain": [
       "array([3004.40833155, 3293.80118284, 3212.26810782, 3633.26077894,\n",
       "       3344.09749926, 3086.25727073, 3552.02845577, 3425.62762541])"
      ]
     },
     "execution_count": 56,
     "metadata": {},
     "output_type": "execute_result"
    }
   ],
   "source": [
    "line = '\":[{\"X\":3004.4083315511753,\"Y\":3293.8011828353156,\"Angle\":0.0},{\"X\":3212.268107817722,\"Y\":3633.2607789448048,\"Angle\":0.0},{\"X\":3344.097499262909,\"Y\":3086.257270733001,\"Angle\":0.0},{\"X\":3552.02845576906,\"Y\":3425.6276254105196,\"Angle\":0.0}]} '\n",
    "pattern = r'\\d{3,}.\\d{6,}'\n",
    "matches = re.findall(pattern, line)\n",
    "matches = np.array(matches,dtype = float)\n",
    "matches"
   ]
  },
  {
   "cell_type": "code",
   "execution_count": 57,
   "id": "6e431bd2",
   "metadata": {},
   "outputs": [
    {
     "data": {
      "text/plain": [
       "398.0433443488239"
      ]
     },
     "execution_count": 57,
     "metadata": {},
     "output_type": "execute_result"
    }
   ],
   "source": [
    "((matches[0]-matches[2])**2 + (matches[1]-matches[3])**2 )**0.5"
   ]
  },
  {
   "cell_type": "code",
   "execution_count": 58,
   "id": "eaf50ecd",
   "metadata": {},
   "outputs": [
    {
     "data": {
      "text/plain": [
       "398.00442247229836"
      ]
     },
     "execution_count": 58,
     "metadata": {},
     "output_type": "execute_result"
    }
   ],
   "source": [
    "((matches[4]-matches[6])**2 + (matches[5]-matches[7])**2 )**0.5"
   ]
  },
  {
   "cell_type": "code",
   "execution_count": 63,
   "id": "b1264052",
   "metadata": {},
   "outputs": [
    {
     "data": {
      "text/plain": [
       "array([3344.2244275 , 3086.43747185, 3004.61230575, 3293.95664388,\n",
       "       3552.04005027, 3425.87337594, 3212.36569957, 3633.48437388])"
      ]
     },
     "execution_count": 63,
     "metadata": {},
     "output_type": "execute_result"
    }
   ],
   "source": [
    "line = '{\"匹配点\":[{\"X\":3344.224427503379,\"Y\":3086.4374718511144,\"Angle\":0.0},{\"X\":3004.6123057477944,\"Y\":3293.9566438767392,\"Angle\":0.0},{\"X\":3552.0400502651069,\"Y\":3425.8733759367751,\"Angle\":0.0},{\"X\":3212.3656995749175,\"Y\":3633.4843738778586,\"Angle\":0.0}]} '\n",
    "pattern = r'\\d{3,}.\\d{6,}'\n",
    "matches = re.findall(pattern, line)\n",
    "matches = np.array(matches,dtype = float)\n",
    "matches"
   ]
  },
  {
   "cell_type": "code",
   "execution_count": 64,
   "id": "0d3b5017",
   "metadata": {},
   "outputs": [
    {
     "data": {
      "text/plain": [
       "397.9957286222189"
      ]
     },
     "execution_count": 64,
     "metadata": {},
     "output_type": "execute_result"
    }
   ],
   "source": [
    "((matches[0]-matches[2])**2 + (matches[1]-matches[3])**2 )**0.5"
   ]
  },
  {
   "cell_type": "code",
   "execution_count": 65,
   "id": "a5da4046",
   "metadata": {},
   "outputs": [
    {
     "data": {
      "text/plain": [
       "398.09671059039704"
      ]
     },
     "execution_count": 65,
     "metadata": {},
     "output_type": "execute_result"
    }
   ],
   "source": [
    "((matches[4]-matches[6])**2 + (matches[5]-matches[7])**2 )**0.5"
   ]
  },
  {
   "cell_type": "code",
   "execution_count": 66,
   "id": "69df61a3",
   "metadata": {},
   "outputs": [
    {
     "data": {
      "text/plain": [
       "array([1639.76104161, 3488.27062823, 2031.07028662, 3567.09158656,\n",
       "       1560.8310726 , 3879.35374075, 1952.1212638 , 3958.21014697])"
      ]
     },
     "execution_count": 66,
     "metadata": {},
     "output_type": "execute_result"
    }
   ],
   "source": [
    "line = '{\"匹配点\":[{\"X\":1639.7610416147279,\"Y\":3488.2706282339309,\"Angle\":0.0},{\"X\":2031.0702866248071,\"Y\":3567.091586559196,\"Angle\":0.0},{\"X\":1560.8310725959793,\"Y\":3879.3537407456479,\"Angle\":0.0},{\"X\":1952.1212637987253,\"Y\":3958.2101469672421,\"Angle\":0.0}]}  '\n",
    "pattern = r'\\d{3,}.\\d{6,}'\n",
    "matches = re.findall(pattern, line)\n",
    "matches = np.array(matches,dtype = float)\n",
    "matches"
   ]
  },
  {
   "cell_type": "code",
   "execution_count": 67,
   "id": "46e68b29",
   "metadata": {},
   "outputs": [
    {
     "data": {
      "text/plain": [
       "399.1687220984021"
      ]
     },
     "execution_count": 67,
     "metadata": {},
     "output_type": "execute_result"
    }
   ],
   "source": [
    "((matches[0]-matches[2])**2 + (matches[1]-matches[3])**2 )**0.5"
   ]
  },
  {
   "cell_type": "code",
   "execution_count": 68,
   "id": "b29cd278",
   "metadata": {},
   "outputs": [
    {
     "data": {
      "text/plain": [
       "399.15704495056406"
      ]
     },
     "execution_count": 68,
     "metadata": {},
     "output_type": "execute_result"
    }
   ],
   "source": [
    "((matches[4]-matches[6])**2 + (matches[5]-matches[7])**2 )**0.5"
   ]
  },
  {
   "cell_type": "code",
   "execution_count": 73,
   "id": "a3dca3fe",
   "metadata": {},
   "outputs": [
    {
     "name": "stdout",
     "output_type": "stream",
     "text": [
      "596.6927426366603\n",
      "596.6718438233347\n",
      "597.3270821224701\n",
      "597.3053145297087\n"
     ]
    }
   ],
   "source": [
    "line = '\":[{\"X\":706.74059584430984,\"Y\":3059.6295127963917,\"Angle\":0.0},{\"X\":1018.6336416781601,\"Y\":3568.3189633217034,\"Angle\":0.0},{\"X\":1330.4867034489153,\"Y\":4077.7768231110581,\"Angle\":0.0},{\"X\":1642.2980692845506,\"Y\":4587.25464563027,\"Angle\":0.0}]} '\n",
    "pattern = r'\\d{3,}.\\d{6,}'\n",
    "matches = re.findall(pattern, line)\n",
    "matches = np.array(matches,dtype = float)\n",
    "for i in range(4):\n",
    "    print(((matches[i]-matches[i+2])**2 + (matches[i+1]-matches[i+3])**2 )**0.5)"
   ]
  },
  {
   "cell_type": "code",
   "execution_count": 74,
   "id": "7608fb0a",
   "metadata": {},
   "outputs": [
    {
     "name": "stdout",
     "output_type": "stream",
     "text": [
      "596.4667308442318\n",
      "596.494770477043\n",
      "597.4159885037982\n",
      "597.4292431689023\n"
     ]
    }
   ],
   "source": [
    "line = '\":[{\"X\":707.101681453851,\"Y\":3059.7391606768424,\"Angle\":0.0},{\"X\":1018.9038372971478,\"Y\":3568.21922578803,\"Angle\":0.0},{\"X\":1330.7596286350392,\"Y\":4077.7796527532605,\"Angle\":0.0},{\"X\":1642.6408109214663,\"Y\":4587.2481340050754,\"Angle\":0.0}]} '\n",
    "pattern = r'\\d{3,}.\\d{6,}'\n",
    "matches = re.findall(pattern, line)\n",
    "matches = np.array(matches,dtype = float)\n",
    "for i in range(4):\n",
    "    print(((matches[i]-matches[i+2])**2 + (matches[i+1]-matches[i+3])**2 )**0.5)"
   ]
  },
  {
   "cell_type": "code",
   "execution_count": 71,
   "id": "cf43311b",
   "metadata": {},
   "outputs": [
    {
     "data": {
      "text/plain": [
       "597.3223413728988"
      ]
     },
     "execution_count": 71,
     "metadata": {},
     "output_type": "execute_result"
    }
   ],
   "source": [
    "((matches[4]-matches[6])**2 + (matches[5]-matches[7])**2 )**0.5"
   ]
  },
  {
   "cell_type": "code",
   "execution_count": 2,
   "id": "c0afa64b",
   "metadata": {},
   "outputs": [],
   "source": [
    "path = \"log20240626.txt\""
   ]
  },
  {
   "cell_type": "code",
   "execution_count": null,
   "id": "51016253",
   "metadata": {},
   "outputs": [],
   "source": [
    "# TDM1 = {'time':[],\n",
    "#         'TDM1X':[],'TDM1Y':[],'TDM1A':[]}\n",
    "# U_LBM = {'time':[],\n",
    "#         'U_LBM1X':[],'U_LBM1Y':[],\n",
    "#         'U_LBM2X':[],'U_LBM2Y':[],\n",
    "#         'U_LBM3X':[],'U_LBM3Y':[]}\n",
    "# TDM2 = {'time':[],\n",
    "#         'TDM2X':[],'TDM2Y':[],'TDM2A':[]}\n",
    "# U_RBM = {'time':[],\n",
    "#         'U_RBM1X':[],'U_RBM1Y':[],\n",
    "#         'U_RBM2X':[],'U_RBM2Y':[],\n",
    "#         'U_RBM3X':[],'U_RBM3Y':[]}\n",
    "\n",
    "# BDM1 = {'time':[],\n",
    "#         'BDM1X':[],'BDM1Y':[],'BDM1A':[]}\n",
    "# D_LBM = {'time':[],\n",
    "#         'D_LBM1X':[],'D_LBM1Y':[],\n",
    "#         'D_LBM2X':[],'D_LBM2Y':[],\n",
    "#         'D_LBM3X':[],'D_LBM3Y':[]}\n",
    "# BDM2 = {'time':[],\n",
    "#         'BDM2X':[],'BDM2Y':[],'BDM2A':[]}\n",
    "# D_RBM = {'time':[],\n",
    "#         'D_RBM1X':[],'D_RBM1Y':[],\n",
    "#         'D_RBM2X':[],'D_RBM2Y':[],\n",
    "#         'D_RBM3X':[],'D_RBM3Y':[]}\n",
    "FH = {'time':[],\n",
    "           'Force':[],\n",
    "           'High':[]\n",
    "           }\n",
    "all_data = {\n",
    "            'FH':FH\n",
    "        #     'BATL':BATL,\n",
    "            \n",
    "        #     'TDM1':TDM1,\n",
    "        #     'U_LBM':U_LBM,\n",
    "        #     'TDM2':TDM2,\n",
    "        #     'U_RBM':U_RBM,\n",
    "        #     'BDM1':BDM1,\n",
    "        #     'D_LBM':D_LBM,\n",
    "        #     'BDM2':BDM2,\n",
    "        #     'D_RBM':D_RBM,\n",
    "        #     'TopVec':TopVec,\n",
    "        #     'BottomVec':BottomVec,\n",
    "        #     'CorOver':CorOver,\n",
    "            }"
   ]
  },
  {
   "cell_type": "code",
   "execution_count": 6,
   "id": "5c4964dd-2975-4b8b-ba16-b35f312f01dd",
   "metadata": {
    "tags": []
   },
   "outputs": [],
   "source": [
    "keyword = [\"左侧TopDieMark1定位 PR执行结果\",\n",
    "           \"左侧上视左标定片阵列Mark定位 PR执行结果\",\n",
    "           \"左侧TopDieMark2定位 PR执行结果\",\n",
    "           \"左侧上视右标定片阵列Mark定位 PR执行结果\",\n",
    "           \"左侧BottomDieMark1定位 PR执行结果\",\n",
    "           \"左侧左下视标定片阵列Mark定位 PR执行结果\",\n",
    "           \"左侧BottomDieMark2定位 PR执行结果\",\n",
    "           \"左侧右下视标定片阵列Mark定位 PR执行结果\",\n",
    "           \"对位调整完成\"\n",
    "           ]\n",
    "TDM1 = {'time':[],\n",
    "        'TDM1X':[],'TDM1Y':[],'TDM1A':[]}\n",
    "U_LBM = {'time':[],\n",
    "        'U_LBM1X':[],'U_LBM1Y':[],\n",
    "        'U_LBM2X':[],'U_LBM2Y':[],\n",
    "        'U_LBM3X':[],'U_LBM3Y':[]}\n",
    "TDM2 = {'time':[],\n",
    "        'TDM2X':[],'TDM2Y':[],'TDM2A':[]}\n",
    "U_RBM = {'time':[],\n",
    "        'U_RBM1X':[],'U_RBM1Y':[],\n",
    "        'U_RBM2X':[],'U_RBM2Y':[],\n",
    "        'U_RBM3X':[],'U_RBM3Y':[]}\n",
    "\n",
    "BDM1 = {'time':[],\n",
    "        'BDM1X':[],'BDM1Y':[],'BDM1A':[]}\n",
    "D_LBM = {'time':[],\n",
    "        'D_LBM1X':[],'D_LBM1Y':[],\n",
    "        'D_LBM2X':[],'D_LBM2Y':[],\n",
    "        'D_LBM3X':[],'D_LBM3Y':[]}\n",
    "BDM2 = {'time':[],\n",
    "        'BDM2X':[],'BDM2Y':[],'BDM2A':[]}\n",
    "D_RBM = {'time':[],\n",
    "        'D_RBM1X':[],'D_RBM1Y':[],\n",
    "        'D_RBM2X':[],'D_RBM2Y':[],\n",
    "        'D_RBM3X':[],'D_RBM3Y':[]}\n",
    "CorOver = {'time':[],\n",
    "           'AngleRes':[],\n",
    "           }\n",
    "all_data = {\n",
    "        #     'BATL':BATL,\n",
    "            \n",
    "            'TDM1':TDM1,\n",
    "            'U_LBM':U_LBM,\n",
    "            'TDM2':TDM2,\n",
    "            'U_RBM':U_RBM,\n",
    "            'BDM1':BDM1,\n",
    "            'D_LBM':D_LBM,\n",
    "            'BDM2':BDM2,\n",
    "            'D_RBM':D_RBM,\n",
    "            'CorOver':CorOver,\n",
    "            }\n",
    "\n",
    "# #轴[BATL]相对运动\n",
    "# keyword = [\"轴[BATL]相对运动\"]\n",
    "# BATL = {'time':[],\n",
    "#            'NowPos':[],\n",
    "#            'RotValue':[]}\n",
    "\n",
    "\n",
    "\n",
    "# keyword1 = [\"旋转DD角度\"]\n",
    "# Ang_cor = {'time':[],'TM1X':[],'TM1Y':[],'TM2X':[],'TM2Y':[],'VX':[],'VY':[],'DD_angle':[]}\n",
    "\n",
    "# keyword7 = [\"[精度矩阵]:Angle合格残差:\"]\n",
    "# Ang_num = {'time':[], 'DD_num':[],'DD_angle':[]}\n",
    "\n",
    "# keyword2 = [\"[精度矩阵]: TopDie校正后最终偏移返回\"]\n",
    "# Move_cor = {'time':[],'Off_X':[],'Off_Y':[],'Off_angle':[]}\n",
    "\n",
    "# keyword3 = [\"【重要】Bottom Wafer Mark1\",\"【重要】Bottom Wafer Mark2\"]\n",
    "# BW_MXY = {'time':[],'BM1X':[],'BM1Y':[],'BM2X':[],'BM2Y':[]}\n",
    "\n",
    "\n",
    "# keyword5 = [\"对位调整完成，当前角度残差\"]\n",
    "# CorOver = {'time':[],\n",
    "#            'AngleRes':[],\n",
    "#            #'YD_X':[],\n",
    "#            #'YD_Y':[],\n",
    "#          }\n",
    "\n"
   ]
  },
  {
   "cell_type": "code",
   "execution_count": 32,
   "id": "bca1689a-666a-4a2e-8fdc-a21f4f3ef059",
   "metadata": {
    "tags": []
   },
   "outputs": [
    {
     "data": {
      "text/plain": [
       "['2024-06-26',\n",
       " '00:11:54.102',\n",
       " '+08:00',\n",
       " '[INF]',\n",
       " '左侧TopDieMark1定位',\n",
       " 'PR执行结果：{\"匹配点\":[{\"X\":1546.8694128132643,\"Y\":4644.3179886888847,\"Angle\":-0.19702459519274107}]}']"
      ]
     },
     "execution_count": 32,
     "metadata": {},
     "output_type": "execute_result"
    }
   ],
   "source": [
    "line = '2024-06-26 00:11:54.102 +08:00 [INF] 左侧TopDieMark1定位 PR执行结果：{\"匹配点\":[{\"X\":1546.8694128132643,\"Y\":4644.3179886888847,\"Angle\":-0.19702459519274107}]}'\n",
    "line.split()"
   ]
  },
  {
   "cell_type": "code",
   "execution_count": 33,
   "id": "06270708",
   "metadata": {},
   "outputs": [
    {
     "data": {
      "text/plain": [
       "['2024-06-26 00',\n",
       " '11',\n",
       " '54.102 +08',\n",
       " '00 [INF] 左侧TopDieMark1定位 PR执行结果：{\"匹配点\"',\n",
       " '[{\"X\"',\n",
       " '1546.8694128132643',\n",
       " '\"Y\"',\n",
       " '4644.3179886888847',\n",
       " '\"Angle\"',\n",
       " '-0.19702459519274107',\n",
       " ']',\n",
       " '']"
      ]
     },
     "execution_count": 33,
     "metadata": {},
     "output_type": "execute_result"
    }
   ],
   "source": [
    "re.split('[:,}]', line)"
   ]
  },
  {
   "cell_type": "code",
   "execution_count": 34,
   "id": "90b0b436",
   "metadata": {},
   "outputs": [
    {
     "data": {
      "text/plain": [
       "'1546.8694128132643'"
      ]
     },
     "execution_count": 34,
     "metadata": {},
     "output_type": "execute_result"
    }
   ],
   "source": [
    "re.split('[:,}]', line)[5]"
   ]
  },
  {
   "cell_type": "code",
   "execution_count": 38,
   "id": "0ebed9e9",
   "metadata": {},
   "outputs": [
    {
     "data": {
      "text/plain": [
       "['2024-06-26 00',\n",
       " '14',\n",
       " '35.000 +08',\n",
       " '00 [INF] 左侧左下视标定片阵列Mark定位 PR执行结果：{\"匹配点1\"',\n",
       " '[{\"X\"',\n",
       " '3092.3939656336929',\n",
       " '\"Y\"',\n",
       " '1165.7226485881272',\n",
       " '\"Angle\"',\n",
       " '0.0',\n",
       " ']',\n",
       " '\"匹配点2\"',\n",
       " '[{\"X\"',\n",
       " '3875.4122977448751',\n",
       " '\"Y\"',\n",
       " '1324.6106379239538',\n",
       " '\"Angle\"',\n",
       " '0.0',\n",
       " ']',\n",
       " '\"匹配点3\"',\n",
       " '[{\"X\"',\n",
       " '3250.7693691872933',\n",
       " '\"Y\"',\n",
       " '383.18665418798605',\n",
       " '\"Angle\"',\n",
       " '0.0',\n",
       " ']',\n",
       " '']"
      ]
     },
     "execution_count": 38,
     "metadata": {},
     "output_type": "execute_result"
    }
   ],
   "source": [
    "line = '2024-06-26 00:14:35.000 +08:00 [INF] 左侧左下视标定片阵列Mark定位 PR执行结果：{\"匹配点1\":[{\"X\":3092.3939656336929,\"Y\":1165.7226485881272,\"Angle\":0.0}],\"匹配点2\":[{\"X\":3875.4122977448751,\"Y\":1324.6106379239538,\"Angle\":0.0}],\"匹配点3\":[{\"X\":3250.7693691872933,\"Y\":383.18665418798605,\"Angle\":0.0}]}'\n",
    "re.split('[:,}]', line)"
   ]
  },
  {
   "cell_type": "code",
   "execution_count": 39,
   "id": "4c473e86",
   "metadata": {},
   "outputs": [
    {
     "data": {
      "text/plain": [
       "'3250.7693691872933'"
      ]
     },
     "execution_count": 39,
     "metadata": {},
     "output_type": "execute_result"
    }
   ],
   "source": [
    "re.split('[:,}]', line)[21]"
   ]
  },
  {
   "cell_type": "code",
   "execution_count": 7,
   "id": "af0385da-374d-4ace-a8b6-ab177dcaedde",
   "metadata": {
    "tags": []
   },
   "outputs": [
    {
     "name": "stdout",
     "output_type": "stream",
     "text": [
      "2024-06-26 00:25:00.573 +08:00 [INF] 左侧左下视标定片阵列Mark定位 PR执行结果：{\"匹配点1\":[{\"X\":3100.1746520007528,\"Y\":1162.5609468888483,\"Angle\":0.0}],\"匹配点2\":[],\"匹配点3\":[{\"X\":3262.1998403989164,\"Y\":379.04286154478348,\"Angle\":0.0}]}\n",
      "\n"
     ]
    }
   ],
   "source": [
    "with open(path, \"r\") as f:\n",
    "    for line in f:\n",
    "        if keyword[0] in line:\n",
    "            \"\"\"\n",
    "            TDM1 = {'time':[],\n",
    "            'TDM1X':[],'TDM1Y':[],'TDM1A':[]}\n",
    "            \n",
    "            \"\"\"\n",
    "            time = line.split()[0] + \" \" + line.split()[1] \n",
    "            TDM1['time'].append(time)\n",
    "            TDM1['TDM1X'].append(re.split('[:,}]', line)[5])\n",
    "            TDM1['TDM1Y'].append(re.split('[:,}]', line)[7])\n",
    "            TDM1['TDM1A'].append(re.split('[:,}]', line)[9])\n",
    "        elif keyword[1] in line:\n",
    "            \"\"\"\n",
    "            U_LBM = {'time':[],\n",
    "            'LBM1X':[],'LBM1Y':[],\n",
    "            'LBM2X':[],'LBM2Y':[],\n",
    "            'LBM3X':[],'LBM3Y':[],\n",
    "            }\n",
    "            \"\"\"\n",
    "            time = line.split()[0] + \" \" + line.split()[1] \n",
    "            U_LBM['time'].append(time)\n",
    "            U_LBM['U_LBM1X'].append(re.split('[:,}]', line)[5])\n",
    "            U_LBM['U_LBM1Y'].append(re.split('[:,}]', line)[7])\n",
    "            U_LBM['U_LBM2X'].append(re.split('[:,}]', line)[13])\n",
    "            U_LBM['U_LBM2Y'].append(re.split('[:,}]', line)[15])\n",
    "            U_LBM['U_LBM3X'].append(re.split('[:,}]', line)[21])\n",
    "            U_LBM['U_LBM3Y'].append(re.split('[:,}]', line)[23])\n",
    "        \n",
    "        elif keyword[2] in line:\n",
    "            \"\"\"\n",
    "            TDM2 = {'time':[],\n",
    "            'TDM2X':[],'TDM2Y':[],'TDM2A':[]}\n",
    "            \"\"\"\n",
    "            time = line.split()[0] + \" \" + line.split()[1] \n",
    "            TDM2['time'].append(time)\n",
    "            TDM2['TDM2X'].append(re.split('[:,}]', line)[5])\n",
    "            TDM2['TDM2Y'].append(re.split('[:,}]', line)[7])\n",
    "            TDM2['TDM2A'].append(re.split('[:,}]', line)[9])\n",
    "\n",
    "        elif keyword[3] in line:\n",
    "            \"\"\"\n",
    "            U_RBM = {'time':[],\n",
    "            'U_RBM1X':[],'U-RBM1X':[],\n",
    "            'U_RBM2X':[],'U_RBM2X':[],\n",
    "            'U_RBM3X':[],'U_RBM3X':[]}\n",
    "            \"\"\"\n",
    "            time = line.split()[0] + \" \" + line.split()[1] \n",
    "            U_RBM['time'].append(time)\n",
    "            U_RBM['U_RBM1X'].append(re.split('[:,}]', line)[5])\n",
    "            U_RBM['U_RBM1Y'].append(re.split('[:,}]', line)[7])\n",
    "            U_RBM['U_RBM2X'].append(re.split('[:,}]', line)[13])\n",
    "            U_RBM['U_RBM2Y'].append(re.split('[:,}]', line)[15])\n",
    "            U_RBM['U_RBM3X'].append(re.split('[:,}]', line)[21])\n",
    "            U_RBM['U_RBM3Y'].append(re.split('[:,}]', line)[23])\n",
    "\n",
    "        elif keyword[4] in line:\n",
    "            \"\"\"\n",
    "            BDM1 = {'time':[],\n",
    "        'BDM1X':[],'BDM1Y':[],'BDM1A':[]}\n",
    "            \n",
    "            \"\"\"\n",
    "            time = line.split()[0] + \" \" + line.split()[1] \n",
    "            BDM1['time'].append(time)\n",
    "            BDM1['BDM1X'].append(re.split('[:,}]', line)[5])\n",
    "            BDM1['BDM1Y'].append(re.split('[:,}]', line)[7])\n",
    "            BDM1['BDM1A'].append(re.split('[:,}]', line)[9])\n",
    "        elif keyword[5] in line:\n",
    "            \"\"\"\n",
    "            D_LBM = {'time':[],\n",
    "        'D_LBM1X':[],'D_LBM1Y':[],\n",
    "        'D_LBM2X':[],'D_LBM2Y':[],\n",
    "        'D_LBM3X':[],'D_LBM3Y':[]}\n",
    "            \"\"\"\n",
    "            try:\n",
    "                D_LBM['D_LBM3Y'].append(re.split('[:,}]', line)[23])\n",
    "                time = line.split()[0] + \" \" + line.split()[1] \n",
    "                D_LBM['time'].append(time)\n",
    "                \n",
    "                D_LBM['D_LBM1X'].append(re.split('[:,}]', line)[5])\n",
    "                D_LBM['D_LBM1Y'].append(re.split('[:,}]', line)[7])\n",
    "                D_LBM['D_LBM2X'].append(re.split('[:,}]', line)[13])\n",
    "                D_LBM['D_LBM2Y'].append(re.split('[:,}]', line)[15])\n",
    "                D_LBM['D_LBM3X'].append(re.split('[:,}]', line)[21])\n",
    "                \n",
    "            except:\n",
    "                print(line)\n",
    "        \n",
    "        elif keyword[6] in line:\n",
    "            \"\"\"\n",
    "            BDM2 = {'time':[],\n",
    "        'BDM2X':[],'BDM2Y':[],'BDM2A':[]}\n",
    "            \"\"\"\n",
    "            time = line.split()[0] + \" \" + line.split()[1] \n",
    "            BDM2['time'].append(time)\n",
    "            BDM2['BDM2X'].append(re.split('[:,}]', line)[5])\n",
    "            BDM2['BDM2Y'].append(re.split('[:,}]', line)[7])\n",
    "            BDM2['BDM2A'].append(re.split('[:,}]', line)[9])\n",
    "\n",
    "        elif keyword[7] in line:\n",
    "            \"\"\"\n",
    "            D_RBM = {'time':[],\n",
    "        'D_RBM1X':[],'D_RBM1Y':[],\n",
    "        'D_RBM2X':[],'D_RBM2Y':[],\n",
    "        'D_RBM3X':[],'D_RBM3Y':[]}\n",
    "            \"\"\"\n",
    "            time = line.split()[0] + \" \" + line.split()[1] \n",
    "            D_RBM['time'].append(time)\n",
    "            D_RBM['D_RBM1X'].append(re.split('[:,}]', line)[5])\n",
    "            D_RBM['D_RBM1Y'].append(re.split('[:,}]', line)[7])\n",
    "            D_RBM['D_RBM2X'].append(re.split('[:,}]', line)[13])\n",
    "            D_RBM['D_RBM2Y'].append(re.split('[:,}]', line)[15])\n",
    "            D_RBM['D_RBM3X'].append(re.split('[:,}]', line)[21])\n",
    "            D_RBM['D_RBM3Y'].append(re.split('[:,}]', line)[23])\n",
    "        elif keyword[8] in line:\n",
    "            '''CorOver = {'time':[],\n",
    "           'AngleRes':[],\n",
    "           }\n",
    "            '''\n",
    "            CorOver['AngleRes'].append(line.split()[-1].split(\"，\")[1][7:-2])\n",
    "            time = line.split()[0] + \" \" + line.split()[1] \n",
    "            CorOver['time'].append(time)\n",
    "\n",
    "        # if keyword[0] in line:\n",
    "        #     \"\"\"\n",
    "        #     BATL = {'time':[],\n",
    "        #    'NowPos':[],\n",
    "        #    'RotValue':[]}\n",
    "        #     \"\"\"\n",
    "        #     time = line.split()[0] + \" \" + line.split()[1] \n",
    "        #     BATL['time'].append(time)\n",
    "        #     BATL['NowPos'].append(line.split()[-1].split(\"，\")[1][6:-1])\n",
    "        #     BATL['RotValue'].append(line.split()[-1].split(\"，\")[2][5:-1])\n",
    "                    \n",
    "               \n",
    "\n",
    "        #     try:\n",
    "        #         CorOver['AngleRes'].append(line.split()[-1].split(\"，\")[1][7:-2])\n",
    "        #         time = line.split()[0] + \" \" + line.split()[1] \n",
    "        #         CorOver['time'].append(time)\n",
    "        #     except:\n",
    "        #         pass\n",
    "            #CorOver['YD_X'].append(line.split()[-2].split(\"，\")[2][6:-1])\n",
    "           #CorOver['YD_Y'].append(line.split()[-1][:-4])\n"
   ]
  },
  {
   "cell_type": "code",
   "execution_count": 10,
   "id": "9805b751-b226-40ab-acac-c4fe588ab47c",
   "metadata": {
    "tags": []
   },
   "outputs": [],
   "source": [
    "# with open(path, \"r\") as f:\n",
    "#     for line in f:\n",
    "#         if keyword7[0] in line:\n",
    "#             time = line.split()[0] +\" \"+ line.split()[1][:-3]\n",
    "#             Ang_num['time'].append(time)\n",
    "#             Ang_num['DD_num'].append(line.split()[11].split('：')[1])\n",
    "#             Ang_num['DD_angle'].append(line.split()[-1].split('：')[1])\n",
    "#         elif keyword[0] in line:\n",
    "#             #激光干涉仪Zero\n",
    "#             time1 = line.split()[0] +\" \"+ line.split()[1][:-3]\n",
    "#             Zero_XY['time'].append(time1)\n",
    "#             #Zero_X\n",
    "#             Zero_X = line.split()[-1].split(\"，\")[0].split(\"：\")[1]\n",
    "#             Zero_XY['Zero_X'].append(Zero_X)\n",
    "#             #Zero_Y\n",
    "#             Zero_Y = line.split()[-1].split(\"，\")[1].split(\"：\")[1]\n",
    "#             Zero_XY['Zero_Y'].append(Zero_Y)\n",
    "#         elif keyword6[0] in line:\n",
    "#             time = line.split()[0] +\" \"+ line.split()[1][:-3]\n",
    "#             P3L1_XY['time'].append(time)\n",
    "#             P3L1_XY['P3L1_X'].append(line.split()[-1].split('，')[0].split('：')[1])\n",
    "#             P3L1_XY['P3L1_Y'].append(line.split()[-1].split('：')[-1])\n",
    "            \n",
    "#         elif keyword2[0] in line:\n",
    "#             \"Move_cor = {'time':[],'Off_X':[],'Off_Y':[],'Off_angle':[]}\"\n",
    "#             time = line.split()[0] +\" \"+ line.split()[1][:-3]\n",
    "#             Move_cor['time'].append(time)           \n",
    "#             Off_X = line.split()[-4]\n",
    "#             Move_cor['Off_X'].append(Off_X)\n",
    "#             Off_Y = line.split()[-2][:-1]\n",
    "#             Move_cor['Off_Y'].append(Off_Y)\n",
    "#             Off_angle = line.split()[-1].split(\"：\")[1]\n",
    "#             Move_cor['Off_angle'].append(Off_angle)\n",
    "            \n",
    "#         elif keyword3[0] in line:\n",
    "#             \"BW_MXY = {'time':[],'BM1X':[],'BM1Y':[],'BM2X':[],'BM2Y':[]}\"\n",
    "#             time = line.split()[0] +\" \"+ line.split()[1][:-3]\n",
    "#             BW_MXY['time'].append(time)\n",
    "#             BM1X = line.split()[-1].split(\"，\")[0].split(\"：\")[1]\n",
    "#             BM1Y = line.split()[-1].split(\"，\")[1].split(\"：\")[1]\n",
    "#             BW_MXY['BM1X'].append(BM1X)\n",
    "#             BW_MXY['BM1Y'].append(BM1Y)\n",
    "            \n",
    "#         # elif keyword1[0] in line:\n",
    "#         #     time = line.split()[0] +\" \"+ line.split()[1][:-3]\n",
    "#         #     Ang_cor['time'].append(time)\n",
    "#         #     #TopDie Mark1X\n",
    "#         #     TM1X = line.split()[-11].split(\":\")[1]\n",
    "#         #     Ang_cor['TM1X'].append(TM1X)\n",
    "#         #     #TopDie Mark1Y\n",
    "#         #     TM1Y = line.split()[-10].split(\":\")[1]\n",
    "#         #     Ang_cor['TM1Y'].append(TM1Y)\n",
    "#         #     #TopDie Mark2X\n",
    "#         #     TM2X = line.split()[-8].split(\":\")[1]\n",
    "#         #     Ang_cor['TM2X'].append(TM2X)\n",
    "#         #     #TopDie MarkYX\n",
    "#         #     TM2Y = line.split()[-7].split(\":\")[1]\n",
    "#         #     Ang_cor['TM2Y'].append(TM2Y)\n",
    "#         #     #BottomDie Mark VectorX\n",
    "#         #     VX = line.split()[-4]\n",
    "#         #     Ang_cor['VX'].append(VX)\n",
    "#         #     #BottomDie Mark VectorY\n",
    "#         #     VY = line.split()[-2]\n",
    "#         #     Ang_cor['VY'].append(VY)\n",
    "#         #     #需要偏转的角度\n",
    "#         #     DD_angle = line.split()[-1].split(\"：\")[1]\n",
    "#         #     Ang_cor['DD_angle'].append(DD_angle)\n",
    "                        \n",
    "        \n",
    "            \n",
    "        \n",
    "#         elif keyword3[1] in line:            \n",
    "#             BM2X = line.split()[-1].split(\"，\")[0].split(\"：\")[1]\n",
    "#             BM2Y = line.split()[-1].split(\"，\")[1].split(\"：\")[1]\n",
    "#             BW_MXY['BM2X'].append(BM2X)\n",
    "#             BW_MXY['BM2Y'].append(BM2Y)\n",
    "            \n",
    "#         elif keyword4[0] in line:\n",
    "#             time = line.split()[0] +\" \"+ line.split()[1][:-3]\n",
    "#             High['time'].append(time)\n",
    "#             High['high'].append(line.split()[-2])\n",
    "        \n",
    "#         elif keyword4[1] in line:    #Torch_F\n",
    "#             #time = line.split()[0] +\" \"+ line.split()[1][:-3]\n",
    "#             #High['time'].append(time)\n",
    "#             High['Torch_F'].append(line.split('为')[1].split('g')[0])\n",
    "            \n",
    "#         elif keyword4[2] in line:    #Finish_F\n",
    "#             #time = line.split()[0] +\" \"+ line.split()[1][:-3]\n",
    "#             #High['time'].append(time)\n",
    "#             High['Finish_F'].append(line.split()[-2].split('为')[1].split('g')[0])\n",
    "#             High['Bond_Time'].append(line.split()[-1][1:])\n",
    "                    \n",
    "#         elif keyword5[0] in line:\n",
    "#             \"Bond_XY = {'time':[],'Gzt_YDX':[],'Gzt_YDY':[],'Bond_YDX':[],'Bond_YDY':[],'JG_X2':[],'JG_Y':[]}\"\n",
    "#             time = line.split()[0] +\" \"+ line.split()[1][:-3]\n",
    "#             Bond_XY['time'].append(time)\n",
    "#             Bond_XY['CassetteID'].append(line.split('，')[1].split('Slot')[0].split('为')[1])\n",
    "#             Bond_XY['Slot'].append(line.split('，')[1].split('Slot')[1].split('为')[1])\n",
    "#             Bond_XY['Die'].append(line.split('，')[3].split()[1])\n",
    "#             Bond_XY['Die_ID'].append(line.split('，')[4].split()[0].split('为')[1])\n",
    "#             #工作台压电XY\n",
    "#             #Gzt_YDX = line.split()[-11]\n",
    "#             #Bond_XY['Gzt_YDX'].append(Gzt_YDX)\n",
    "#             #Gzt_YDY = line.split()[-9]\n",
    "#             #Bond_XY['Gzt_YDY'].append(Gzt_YDY)\n",
    "#             #Bond头压电XY\n",
    "#             #Bond_YDX = line.split()[-7].split(':')[1]\n",
    "#             #Bond_XY['Bond_YDX'].append(Bond_YDX)\n",
    "#             #Bond_YDY = line.split()[-6].split(':')[1]\n",
    "#             #Bond_XY['Bond_YDY'].append(Bond_YDY)\n",
    "#             #激光干涉仪\n",
    "#             JG_X2 = line.split()[-3]\n",
    "#             Bond_XY['JG_X2'].append(JG_X2)\n",
    "#             JG_Y = line.split()[-1]\n",
    "#             Bond_XY['JG_Y'].append(JG_Y)"
   ]
  },
  {
   "cell_type": "code",
   "execution_count": 8,
   "id": "d724c22e-2557-414a-8789-4fca29fb8720",
   "metadata": {
    "tags": []
   },
   "outputs": [
    {
     "name": "stdout",
     "output_type": "stream",
     "text": [
      "TDM1 (54, 3)\n",
      "U_LBM (51, 6)\n",
      "TDM2 (50, 3)\n",
      "U_RBM (50, 6)\n",
      "BDM1 (234, 3)\n",
      "D_LBM (242, 6)\n",
      "BDM2 (148, 3)\n",
      "D_RBM (244, 6)\n",
      "CorOver (49, 1)\n"
     ]
    }
   ],
   "source": [
    "for i in all_data:\n",
    "    try:\n",
    "        all_data[i] = pd.DataFrame(all_data[i]).set_index('time').astype(np.float64)\n",
    "        print(i,all_data[i].shape)\n",
    "    except:\n",
    "        all_data[i] = pd.DataFrame(all_data[i]).set_index('time')"
   ]
  },
  {
   "cell_type": "code",
   "execution_count": 9,
   "id": "3491c072",
   "metadata": {},
   "outputs": [],
   "source": [
    "for i in [i for i in all_data][:-1]:\n",
    "    index = []\n",
    "    #j是时间索引\n",
    "    for j in all_data['CorOver'].index:\n",
    "        index.append(all_data[i][all_data[i].index < j].index[-1])\n",
    "    all_data[i] = all_data[i].loc[index]\n",
    "    all_data['CorOver'][list(all_data[i].columns)] = all_data[i].values"
   ]
  },
  {
   "cell_type": "code",
   "execution_count": 11,
   "id": "a3eea3d5",
   "metadata": {},
   "outputs": [],
   "source": [
    "all_data['CorOver'].to_excel('626calc.xlsx')"
   ]
  },
  {
   "cell_type": "code",
   "execution_count": 12,
   "id": "6e210a21",
   "metadata": {},
   "outputs": [
    {
     "data": {
      "text/html": [
       "<div>\n",
       "<style scoped>\n",
       "    .dataframe tbody tr th:only-of-type {\n",
       "        vertical-align: middle;\n",
       "    }\n",
       "\n",
       "    .dataframe tbody tr th {\n",
       "        vertical-align: top;\n",
       "    }\n",
       "\n",
       "    .dataframe thead th {\n",
       "        text-align: right;\n",
       "    }\n",
       "</style>\n",
       "<table border=\"1\" class=\"dataframe\">\n",
       "  <thead>\n",
       "    <tr style=\"text-align: right;\">\n",
       "      <th></th>\n",
       "      <th>AngleRes</th>\n",
       "      <th>TDM1X</th>\n",
       "      <th>TDM1Y</th>\n",
       "      <th>TDM1A</th>\n",
       "      <th>U_LBM1X</th>\n",
       "      <th>U_LBM1Y</th>\n",
       "      <th>U_LBM2X</th>\n",
       "      <th>U_LBM2Y</th>\n",
       "      <th>U_LBM3X</th>\n",
       "      <th>U_LBM3Y</th>\n",
       "      <th>TDM2X</th>\n",
       "      <th>TDM2Y</th>\n",
       "      <th>TDM2A</th>\n",
       "      <th>U_RBM1X</th>\n",
       "      <th>U_RBM1Y</th>\n",
       "      <th>U_RBM2X</th>\n",
       "      <th>U_RBM2Y</th>\n",
       "      <th>U_RBM3X</th>\n",
       "      <th>U_RBM3Y</th>\n",
       "      <th>BDM1X</th>\n",
       "      <th>BDM1Y</th>\n",
       "      <th>BDM1A</th>\n",
       "      <th>D_LBM1X</th>\n",
       "      <th>D_LBM1Y</th>\n",
       "      <th>D_LBM2X</th>\n",
       "      <th>D_LBM2Y</th>\n",
       "      <th>D_LBM3X</th>\n",
       "      <th>D_LBM3Y</th>\n",
       "      <th>BDM2X</th>\n",
       "      <th>BDM2Y</th>\n",
       "      <th>BDM2A</th>\n",
       "      <th>D_RBM1X</th>\n",
       "      <th>D_RBM1Y</th>\n",
       "      <th>D_RBM2X</th>\n",
       "      <th>D_RBM2Y</th>\n",
       "      <th>D_RBM3X</th>\n",
       "      <th>D_RBM3Y</th>\n",
       "    </tr>\n",
       "  </thead>\n",
       "  <tbody>\n",
       "    <tr>\n",
       "      <th>count</th>\n",
       "      <td>49.000000</td>\n",
       "      <td>49.000000</td>\n",
       "      <td>49.000000</td>\n",
       "      <td>49.000000</td>\n",
       "      <td>49.000000</td>\n",
       "      <td>49.000000</td>\n",
       "      <td>49.000000</td>\n",
       "      <td>49.000000</td>\n",
       "      <td>49.000000</td>\n",
       "      <td>49.000000</td>\n",
       "      <td>49.000000</td>\n",
       "      <td>49.000000</td>\n",
       "      <td>49.000000</td>\n",
       "      <td>49.000000</td>\n",
       "      <td>49.000000</td>\n",
       "      <td>49.000000</td>\n",
       "      <td>49.000000</td>\n",
       "      <td>49.000000</td>\n",
       "      <td>49.000000</td>\n",
       "      <td>49.000000</td>\n",
       "      <td>49.000000</td>\n",
       "      <td>49.000000</td>\n",
       "      <td>49.000000</td>\n",
       "      <td>49.000000</td>\n",
       "      <td>49.000000</td>\n",
       "      <td>49.000000</td>\n",
       "      <td>49.000000</td>\n",
       "      <td>49.000000</td>\n",
       "      <td>49.000000</td>\n",
       "      <td>49.000000</td>\n",
       "      <td>49.000000</td>\n",
       "      <td>49.000000</td>\n",
       "      <td>49.000000</td>\n",
       "      <td>49.000000</td>\n",
       "      <td>49.000000</td>\n",
       "      <td>49.000000</td>\n",
       "      <td>49.000000</td>\n",
       "    </tr>\n",
       "    <tr>\n",
       "      <th>mean</th>\n",
       "      <td>-0.007402</td>\n",
       "      <td>1523.580496</td>\n",
       "      <td>4672.582817</td>\n",
       "      <td>-0.265212</td>\n",
       "      <td>1989.915894</td>\n",
       "      <td>1999.639001</td>\n",
       "      <td>2748.643991</td>\n",
       "      <td>1746.148595</td>\n",
       "      <td>1736.420309</td>\n",
       "      <td>1240.790708</td>\n",
       "      <td>3557.168537</td>\n",
       "      <td>3375.204448</td>\n",
       "      <td>2.992395</td>\n",
       "      <td>1907.349714</td>\n",
       "      <td>1588.144041</td>\n",
       "      <td>2666.464018</td>\n",
       "      <td>1335.003863</td>\n",
       "      <td>1653.932994</td>\n",
       "      <td>829.320585</td>\n",
       "      <td>1347.966218</td>\n",
       "      <td>3251.098309</td>\n",
       "      <td>3.918900</td>\n",
       "      <td>3086.664136</td>\n",
       "      <td>1167.157595</td>\n",
       "      <td>3869.782066</td>\n",
       "      <td>1325.537392</td>\n",
       "      <td>3244.814754</td>\n",
       "      <td>384.593195</td>\n",
       "      <td>3182.914205</td>\n",
       "      <td>2813.483588</td>\n",
       "      <td>0.029176</td>\n",
       "      <td>1176.571542</td>\n",
       "      <td>1438.248724</td>\n",
       "      <td>1856.466147</td>\n",
       "      <td>1023.714503</td>\n",
       "      <td>760.983388</td>\n",
       "      <td>758.138360</td>\n",
       "    </tr>\n",
       "    <tr>\n",
       "      <th>std</th>\n",
       "      <td>0.004953</td>\n",
       "      <td>30.874061</td>\n",
       "      <td>75.354863</td>\n",
       "      <td>0.168921</td>\n",
       "      <td>0.248822</td>\n",
       "      <td>0.254454</td>\n",
       "      <td>0.269263</td>\n",
       "      <td>0.251514</td>\n",
       "      <td>0.247242</td>\n",
       "      <td>0.252055</td>\n",
       "      <td>32.627186</td>\n",
       "      <td>92.842336</td>\n",
       "      <td>0.641548</td>\n",
       "      <td>0.336138</td>\n",
       "      <td>0.202156</td>\n",
       "      <td>0.330256</td>\n",
       "      <td>0.209221</td>\n",
       "      <td>0.332153</td>\n",
       "      <td>0.212773</td>\n",
       "      <td>66.407139</td>\n",
       "      <td>68.129674</td>\n",
       "      <td>25.736853</td>\n",
       "      <td>75.220122</td>\n",
       "      <td>24.701257</td>\n",
       "      <td>74.024755</td>\n",
       "      <td>18.506687</td>\n",
       "      <td>81.579084</td>\n",
       "      <td>23.492402</td>\n",
       "      <td>51.932000</td>\n",
       "      <td>79.283391</td>\n",
       "      <td>0.152099</td>\n",
       "      <td>79.973759</td>\n",
       "      <td>1.917312</td>\n",
       "      <td>83.335347</td>\n",
       "      <td>4.093228</td>\n",
       "      <td>85.381256</td>\n",
       "      <td>4.995877</td>\n",
       "    </tr>\n",
       "    <tr>\n",
       "      <th>min</th>\n",
       "      <td>-0.026226</td>\n",
       "      <td>1456.631214</td>\n",
       "      <td>4634.264512</td>\n",
       "      <td>-0.770103</td>\n",
       "      <td>1989.442627</td>\n",
       "      <td>1999.162060</td>\n",
       "      <td>2748.105418</td>\n",
       "      <td>1745.671433</td>\n",
       "      <td>1735.935868</td>\n",
       "      <td>1240.285240</td>\n",
       "      <td>3494.073163</td>\n",
       "      <td>3337.448800</td>\n",
       "      <td>0.340431</td>\n",
       "      <td>1906.905413</td>\n",
       "      <td>1587.745190</td>\n",
       "      <td>2666.027599</td>\n",
       "      <td>1334.590452</td>\n",
       "      <td>1653.487894</td>\n",
       "      <td>828.884536</td>\n",
       "      <td>1077.929902</td>\n",
       "      <td>3209.260776</td>\n",
       "      <td>-0.055067</td>\n",
       "      <td>2790.886902</td>\n",
       "      <td>1073.213093</td>\n",
       "      <td>3578.535885</td>\n",
       "      <td>1256.718178</td>\n",
       "      <td>2923.905443</td>\n",
       "      <td>296.044864</td>\n",
       "      <td>3072.199917</td>\n",
       "      <td>2770.518096</td>\n",
       "      <td>-0.294288</td>\n",
       "      <td>861.574923</td>\n",
       "      <td>1437.075150</td>\n",
       "      <td>1527.693591</td>\n",
       "      <td>1011.453241</td>\n",
       "      <td>424.565089</td>\n",
       "      <td>745.346955</td>\n",
       "    </tr>\n",
       "    <tr>\n",
       "      <th>25%</th>\n",
       "      <td>-0.009141</td>\n",
       "      <td>1512.312714</td>\n",
       "      <td>4651.661390</td>\n",
       "      <td>-0.349501</td>\n",
       "      <td>1989.763959</td>\n",
       "      <td>1999.453031</td>\n",
       "      <td>2748.494756</td>\n",
       "      <td>1745.963211</td>\n",
       "      <td>1736.279250</td>\n",
       "      <td>1240.608635</td>\n",
       "      <td>3546.648883</td>\n",
       "      <td>3346.401994</td>\n",
       "      <td>3.046212</td>\n",
       "      <td>1907.091981</td>\n",
       "      <td>1588.028355</td>\n",
       "      <td>2666.238753</td>\n",
       "      <td>1334.883319</td>\n",
       "      <td>1653.685925</td>\n",
       "      <td>829.205954</td>\n",
       "      <td>1345.807071</td>\n",
       "      <td>3230.240376</td>\n",
       "      <td>0.111779</td>\n",
       "      <td>3090.154013</td>\n",
       "      <td>1163.563716</td>\n",
       "      <td>3873.225945</td>\n",
       "      <td>1322.734397</td>\n",
       "      <td>3248.358749</td>\n",
       "      <td>381.276667</td>\n",
       "      <td>3167.587256</td>\n",
       "      <td>2787.208756</td>\n",
       "      <td>-0.047183</td>\n",
       "      <td>1180.176656</td>\n",
       "      <td>1437.616068</td>\n",
       "      <td>1860.366550</td>\n",
       "      <td>1023.444213</td>\n",
       "      <td>764.993665</td>\n",
       "      <td>757.069309</td>\n",
       "    </tr>\n",
       "    <tr>\n",
       "      <th>50%</th>\n",
       "      <td>-0.007513</td>\n",
       "      <td>1522.094321</td>\n",
       "      <td>4660.313434</td>\n",
       "      <td>-0.296370</td>\n",
       "      <td>1989.863775</td>\n",
       "      <td>1999.629937</td>\n",
       "      <td>2748.587213</td>\n",
       "      <td>1746.136811</td>\n",
       "      <td>1736.366727</td>\n",
       "      <td>1240.782259</td>\n",
       "      <td>3554.110077</td>\n",
       "      <td>3352.503406</td>\n",
       "      <td>3.203813</td>\n",
       "      <td>1907.328881</td>\n",
       "      <td>1588.130244</td>\n",
       "      <td>2666.454571</td>\n",
       "      <td>1334.988012</td>\n",
       "      <td>1653.901702</td>\n",
       "      <td>829.304157</td>\n",
       "      <td>1361.159806</td>\n",
       "      <td>3234.567730</td>\n",
       "      <td>0.195416</td>\n",
       "      <td>3092.522284</td>\n",
       "      <td>1164.846524</td>\n",
       "      <td>3875.509349</td>\n",
       "      <td>1323.723960</td>\n",
       "      <td>3250.889655</td>\n",
       "      <td>382.305800</td>\n",
       "      <td>3180.797333</td>\n",
       "      <td>2793.147346</td>\n",
       "      <td>0.019307</td>\n",
       "      <td>1182.988180</td>\n",
       "      <td>1437.820614</td>\n",
       "      <td>1863.042553</td>\n",
       "      <td>1023.653867</td>\n",
       "      <td>767.764308</td>\n",
       "      <td>757.374194</td>\n",
       "    </tr>\n",
       "    <tr>\n",
       "      <th>75%</th>\n",
       "      <td>-0.005402</td>\n",
       "      <td>1531.402264</td>\n",
       "      <td>4663.495108</td>\n",
       "      <td>-0.178953</td>\n",
       "      <td>1990.046956</td>\n",
       "      <td>1999.810079</td>\n",
       "      <td>2748.769205</td>\n",
       "      <td>1746.323431</td>\n",
       "      <td>1736.528798</td>\n",
       "      <td>1240.947947</td>\n",
       "      <td>3562.710997</td>\n",
       "      <td>3356.592468</td>\n",
       "      <td>3.250953</td>\n",
       "      <td>1907.524248</td>\n",
       "      <td>1588.307775</td>\n",
       "      <td>2666.609527</td>\n",
       "      <td>1335.153778</td>\n",
       "      <td>1654.114808</td>\n",
       "      <td>829.479603</td>\n",
       "      <td>1370.994680</td>\n",
       "      <td>3238.576747</td>\n",
       "      <td>0.263634</td>\n",
       "      <td>3095.887822</td>\n",
       "      <td>1165.866375</td>\n",
       "      <td>3878.927669</td>\n",
       "      <td>1324.622990</td>\n",
       "      <td>3254.679311</td>\n",
       "      <td>383.260593</td>\n",
       "      <td>3190.606073</td>\n",
       "      <td>2804.537667</td>\n",
       "      <td>0.099116</td>\n",
       "      <td>1186.159745</td>\n",
       "      <td>1438.232945</td>\n",
       "      <td>1866.541627</td>\n",
       "      <td>1023.894089</td>\n",
       "      <td>771.402502</td>\n",
       "      <td>757.810129</td>\n",
       "    </tr>\n",
       "    <tr>\n",
       "      <th>max</th>\n",
       "      <td>0.005143</td>\n",
       "      <td>1651.183187</td>\n",
       "      <td>5044.189406</td>\n",
       "      <td>0.146575</td>\n",
       "      <td>1990.861489</td>\n",
       "      <td>2000.143881</td>\n",
       "      <td>2749.653766</td>\n",
       "      <td>1746.668417</td>\n",
       "      <td>1737.334844</td>\n",
       "      <td>1241.325163</td>\n",
       "      <td>3675.844510</td>\n",
       "      <td>3742.391762</td>\n",
       "      <td>3.382988</td>\n",
       "      <td>1908.901555</td>\n",
       "      <td>1588.577704</td>\n",
       "      <td>2667.965431</td>\n",
       "      <td>1335.453240</td>\n",
       "      <td>1655.453487</td>\n",
       "      <td>829.774051</td>\n",
       "      <td>1517.401697</td>\n",
       "      <td>3606.693944</td>\n",
       "      <td>180.391108</td>\n",
       "      <td>3393.076152</td>\n",
       "      <td>1267.732980</td>\n",
       "      <td>4170.790051</td>\n",
       "      <td>1401.493166</td>\n",
       "      <td>3576.292851</td>\n",
       "      <td>480.534646</td>\n",
       "      <td>3448.169852</td>\n",
       "      <td>3167.008832</td>\n",
       "      <td>0.513542</td>\n",
       "      <td>1500.538494</td>\n",
       "      <td>1447.409320</td>\n",
       "      <td>2193.493244</td>\n",
       "      <td>1046.071170</td>\n",
       "      <td>1107.146091</td>\n",
       "      <td>780.667018</td>\n",
       "    </tr>\n",
       "  </tbody>\n",
       "</table>\n",
       "</div>"
      ],
      "text/plain": [
       "        AngleRes        TDM1X        TDM1Y      TDM1A      U_LBM1X  \\\n",
       "count  49.000000    49.000000    49.000000  49.000000    49.000000   \n",
       "mean   -0.007402  1523.580496  4672.582817  -0.265212  1989.915894   \n",
       "std     0.004953    30.874061    75.354863   0.168921     0.248822   \n",
       "min    -0.026226  1456.631214  4634.264512  -0.770103  1989.442627   \n",
       "25%    -0.009141  1512.312714  4651.661390  -0.349501  1989.763959   \n",
       "50%    -0.007513  1522.094321  4660.313434  -0.296370  1989.863775   \n",
       "75%    -0.005402  1531.402264  4663.495108  -0.178953  1990.046956   \n",
       "max     0.005143  1651.183187  5044.189406   0.146575  1990.861489   \n",
       "\n",
       "           U_LBM1Y      U_LBM2X      U_LBM2Y      U_LBM3X      U_LBM3Y  \\\n",
       "count    49.000000    49.000000    49.000000    49.000000    49.000000   \n",
       "mean   1999.639001  2748.643991  1746.148595  1736.420309  1240.790708   \n",
       "std       0.254454     0.269263     0.251514     0.247242     0.252055   \n",
       "min    1999.162060  2748.105418  1745.671433  1735.935868  1240.285240   \n",
       "25%    1999.453031  2748.494756  1745.963211  1736.279250  1240.608635   \n",
       "50%    1999.629937  2748.587213  1746.136811  1736.366727  1240.782259   \n",
       "75%    1999.810079  2748.769205  1746.323431  1736.528798  1240.947947   \n",
       "max    2000.143881  2749.653766  1746.668417  1737.334844  1241.325163   \n",
       "\n",
       "             TDM2X        TDM2Y      TDM2A      U_RBM1X      U_RBM1Y  \\\n",
       "count    49.000000    49.000000  49.000000    49.000000    49.000000   \n",
       "mean   3557.168537  3375.204448   2.992395  1907.349714  1588.144041   \n",
       "std      32.627186    92.842336   0.641548     0.336138     0.202156   \n",
       "min    3494.073163  3337.448800   0.340431  1906.905413  1587.745190   \n",
       "25%    3546.648883  3346.401994   3.046212  1907.091981  1588.028355   \n",
       "50%    3554.110077  3352.503406   3.203813  1907.328881  1588.130244   \n",
       "75%    3562.710997  3356.592468   3.250953  1907.524248  1588.307775   \n",
       "max    3675.844510  3742.391762   3.382988  1908.901555  1588.577704   \n",
       "\n",
       "           U_RBM2X      U_RBM2Y      U_RBM3X     U_RBM3Y        BDM1X  \\\n",
       "count    49.000000    49.000000    49.000000   49.000000    49.000000   \n",
       "mean   2666.464018  1335.003863  1653.932994  829.320585  1347.966218   \n",
       "std       0.330256     0.209221     0.332153    0.212773    66.407139   \n",
       "min    2666.027599  1334.590452  1653.487894  828.884536  1077.929902   \n",
       "25%    2666.238753  1334.883319  1653.685925  829.205954  1345.807071   \n",
       "50%    2666.454571  1334.988012  1653.901702  829.304157  1361.159806   \n",
       "75%    2666.609527  1335.153778  1654.114808  829.479603  1370.994680   \n",
       "max    2667.965431  1335.453240  1655.453487  829.774051  1517.401697   \n",
       "\n",
       "             BDM1Y       BDM1A      D_LBM1X      D_LBM1Y      D_LBM2X  \\\n",
       "count    49.000000   49.000000    49.000000    49.000000    49.000000   \n",
       "mean   3251.098309    3.918900  3086.664136  1167.157595  3869.782066   \n",
       "std      68.129674   25.736853    75.220122    24.701257    74.024755   \n",
       "min    3209.260776   -0.055067  2790.886902  1073.213093  3578.535885   \n",
       "25%    3230.240376    0.111779  3090.154013  1163.563716  3873.225945   \n",
       "50%    3234.567730    0.195416  3092.522284  1164.846524  3875.509349   \n",
       "75%    3238.576747    0.263634  3095.887822  1165.866375  3878.927669   \n",
       "max    3606.693944  180.391108  3393.076152  1267.732980  4170.790051   \n",
       "\n",
       "           D_LBM2Y      D_LBM3X     D_LBM3Y        BDM2X        BDM2Y  \\\n",
       "count    49.000000    49.000000   49.000000    49.000000    49.000000   \n",
       "mean   1325.537392  3244.814754  384.593195  3182.914205  2813.483588   \n",
       "std      18.506687    81.579084   23.492402    51.932000    79.283391   \n",
       "min    1256.718178  2923.905443  296.044864  3072.199917  2770.518096   \n",
       "25%    1322.734397  3248.358749  381.276667  3167.587256  2787.208756   \n",
       "50%    1323.723960  3250.889655  382.305800  3180.797333  2793.147346   \n",
       "75%    1324.622990  3254.679311  383.260593  3190.606073  2804.537667   \n",
       "max    1401.493166  3576.292851  480.534646  3448.169852  3167.008832   \n",
       "\n",
       "           BDM2A      D_RBM1X      D_RBM1Y      D_RBM2X      D_RBM2Y  \\\n",
       "count  49.000000    49.000000    49.000000    49.000000    49.000000   \n",
       "mean    0.029176  1176.571542  1438.248724  1856.466147  1023.714503   \n",
       "std     0.152099    79.973759     1.917312    83.335347     4.093228   \n",
       "min    -0.294288   861.574923  1437.075150  1527.693591  1011.453241   \n",
       "25%    -0.047183  1180.176656  1437.616068  1860.366550  1023.444213   \n",
       "50%     0.019307  1182.988180  1437.820614  1863.042553  1023.653867   \n",
       "75%     0.099116  1186.159745  1438.232945  1866.541627  1023.894089   \n",
       "max     0.513542  1500.538494  1447.409320  2193.493244  1046.071170   \n",
       "\n",
       "           D_RBM3X     D_RBM3Y  \n",
       "count    49.000000   49.000000  \n",
       "mean    760.983388  758.138360  \n",
       "std      85.381256    4.995877  \n",
       "min     424.565089  745.346955  \n",
       "25%     764.993665  757.069309  \n",
       "50%     767.764308  757.374194  \n",
       "75%     771.402502  757.810129  \n",
       "max    1107.146091  780.667018  "
      ]
     },
     "execution_count": 12,
     "metadata": {},
     "output_type": "execute_result"
    }
   ],
   "source": [
    "df1 = all_data['CorOver']\n",
    "df1.describe()"
   ]
  },
  {
   "cell_type": "markdown",
   "id": "30942027",
   "metadata": {},
   "source": [
    "### 1.求TopDieMark1在标定片1坐标系下的点\n",
    "计算上视UL到标定片B1的旋转矩阵，将上视定位的TopDieMark1到标定片1原点的结果映射到标定片1坐标系上 \\\n",
    "也即求出TopDieMark1相对于标定片B1的坐标。表示为[B1_X_B1_TDM1,B1_Y_B1_TDM1]"
   ]
  },
  {
   "cell_type": "code",
   "execution_count": 13,
   "id": "1bf4223f",
   "metadata": {},
   "outputs": [],
   "source": [
    "X_ULB1_2_1,Y_ULB1_2_1 = df1['U_LBM2X'] - df1['U_LBM1X'],df1['U_LBM2Y'] - df1['U_LBM1Y']\n",
    "X_ULB1_3_1,Y_ULB1_3_1 = df1['U_LBM3X'] - df1['U_LBM1X'],df1['U_LBM3Y'] - df1['U_LBM1Y']\n",
    "UL_X_B1_TDM1 = df1['TDM1X'] - df1['U_LBM1X']\n",
    "UL_Y_B1_TDM1 = df1['TDM1Y'] - df1['U_LBM1Y']"
   ]
  },
  {
   "cell_type": "code",
   "execution_count": 33,
   "id": "901d5182",
   "metadata": {},
   "outputs": [
    {
     "data": {
      "text/plain": [
       "0.005827539313361349"
      ]
     },
     "execution_count": 33,
     "metadata": {},
     "output_type": "execute_result"
    }
   ],
   "source": [
    "(np.arctan(Y_ULB1_2_1/X_ULB1_2_1)*180/np.pi).std()*3"
   ]
  },
  {
   "cell_type": "code",
   "execution_count": 34,
   "id": "9a132ea1",
   "metadata": {},
   "outputs": [
    {
     "data": {
      "text/plain": [
       "0.007131989145265865"
      ]
     },
     "execution_count": 34,
     "metadata": {},
     "output_type": "execute_result"
    }
   ],
   "source": [
    "(np.arctan(Y_ULB1_3_1/X_ULB1_3_1)*180/np.pi).std()*3"
   ]
  },
  {
   "cell_type": "code",
   "execution_count": 16,
   "id": "7f44a0c5",
   "metadata": {},
   "outputs": [
    {
     "name": "stderr",
     "output_type": "stream",
     "text": [
      "C:\\Users\\yangd\\AppData\\Local\\Temp\\ipykernel_49372\\3843220660.py:5: FutureWarning: Series.__getitem__ treating keys as positions is deprecated. In a future version, integer keys will always be treated as labels (consistent with DataFrame behavior). To access a value by position, use `ser.iloc[pos]`\n",
      "  A_L = np.array([[X_ULB1_2_1[i],X_ULB1_3_1[i]],\n",
      "C:\\Users\\yangd\\AppData\\Local\\Temp\\ipykernel_49372\\3843220660.py:6: FutureWarning: Series.__getitem__ treating keys as positions is deprecated. In a future version, integer keys will always be treated as labels (consistent with DataFrame behavior). To access a value by position, use `ser.iloc[pos]`\n",
      "  [Y_ULB1_2_1[i],Y_ULB1_3_1[i]]])\n",
      "C:\\Users\\yangd\\AppData\\Local\\Temp\\ipykernel_49372\\3843220660.py:18: FutureWarning: Series.__getitem__ treating keys as positions is deprecated. In a future version, integer keys will always be treated as labels (consistent with DataFrame behavior). To access a value by position, use `ser.iloc[pos]`\n",
      "  b = np.array([[UL_X_B1_TDM1[i]],\n",
      "C:\\Users\\yangd\\AppData\\Local\\Temp\\ipykernel_49372\\3843220660.py:19: FutureWarning: Series.__getitem__ treating keys as positions is deprecated. In a future version, integer keys will always be treated as labels (consistent with DataFrame behavior). To access a value by position, use `ser.iloc[pos]`\n",
      "  [UL_Y_B1_TDM1[i]]])\n"
     ]
    }
   ],
   "source": [
    "B1_XY_B1_TDM1s = []\n",
    "R_B1_ULs = []\n",
    "for i in range(len(X_ULB1_2_1)):\n",
    "    #标定片方向矢量在视觉坐标系中的描述\n",
    "    A_L = np.array([[X_ULB1_2_1[i],X_ULB1_3_1[i]],\n",
    "                    [Y_ULB1_2_1[i],Y_ULB1_3_1[i]]])\n",
    "    \n",
    "    #标定片向量矩阵\n",
    "    #标定片方向矢量在自身坐标系中的描述\n",
    "    B_B = np.array([[800, 0   ],\n",
    "                    [0,    800]])\n",
    "    \n",
    "    #^B1_UL R = B*A^-1从标定片转向上视坐标系的旋转矩阵\n",
    "    R_B_L = np.dot(B_B,np.linalg.inv(A_L))\n",
    "    R_B1_ULs.append(R_B_L)\n",
    "\n",
    "    #变量乘以旋转矩阵\n",
    "    b = np.array([[UL_X_B1_TDM1[i]],\n",
    "                  [UL_Y_B1_TDM1[i]]])    \n",
    "    B1_XY = np.dot(R_B_L,b)\n",
    "    B1_XY_B1_TDM1s.append(B1_XY)"
   ]
  },
  {
   "cell_type": "code",
   "execution_count": 17,
   "id": "290ad089",
   "metadata": {},
   "outputs": [
    {
     "name": "stdout",
     "output_type": "stream",
     "text": [
      "Mean_X:  -1289.2851766638616\n",
      "3sigmaX:  67.05843658369189\n",
      "Mean_Y:  -2387.214648979311\n",
      "3sigmaY:  232.1435875695017\n"
     ]
    },
    {
     "data": {
      "application/vnd.jupyter.widget-view+json": {
       "model_id": "8d7c1e5c00cd41749ffe940442ed752c",
       "version_major": 2,
       "version_minor": 0
      },
      "image/png": "[encoded data removed]",
      "text/html": [
       "\n",
       "            <div style=\"display: inline-block;\">\n",
       "                <div class=\"jupyter-widgets widget-label\" style=\"text-align: center;\">\n",
       "                    Figure\n",
       "                </div>\n",
       "                <img src='data:image/png;base64,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' width=640.0/>\n",
       "            </div>\n",
       "        "
      ],
      "text/plain": [
       "Canvas(toolbar=Toolbar(toolitems=[('Home', 'Reset original view', 'home', 'home'), ('Back', 'Back to previous …"
      ]
     },
     "metadata": {},
     "output_type": "display_data"
    }
   ],
   "source": [
    "#将列表转换为np.array\n",
    "B1_XY_B1_TDM1s = np.array(B1_XY_B1_TDM1s)\n",
    "\n",
    "#X方向坐标\n",
    "B1_X_B1_TDM1s = B1_XY_B1_TDM1s[:,0]\n",
    "print(\"Mean_X: \",B1_X_B1_TDM1s.mean())\n",
    "print(\"3sigmaX: \",B1_X_B1_TDM1s.std()*3)\n",
    "\n",
    "#Y方向坐标\n",
    "B1_Y_B1_TDM1s = B1_XY_B1_TDM1s[:,1]\n",
    "print(\"Mean_Y: \",B1_Y_B1_TDM1s.mean())\n",
    "print(\"3sigmaY: \",B1_Y_B1_TDM1s.std()*3)\n",
    "\n",
    "\n",
    "fig,ax = plt.subplots(1,2)\n",
    "ax[0].hist(B1_X_B1_TDM1s,bins=100)\n",
    "ax[0].set_title(\"X\")\n",
    "ax[1].hist(B1_Y_B1_TDM1s,bins=100)\n",
    "ax[1].set_title(\"Y\")\n",
    "plt.show()"
   ]
  },
  {
   "cell_type": "markdown",
   "id": "3e07d7ce",
   "metadata": {},
   "source": [
    "### 2.求TopDieMark2在标定片1坐标系下的点\n",
    "计算上视UL到标定片B2的旋转矩阵，将上视定位的TopDieMark2到标定片2原点的结果映射到标定片2坐标系上 \\\n",
    "也即求出TopDieMark2相对于标定片B2的坐标。表示为[B2_X_B2_TDM2,B2_X_B2_TDM2 \\\n",
    "通过标定出的T_B1_B2(标定片B2到标定片B1)传递矩阵，将B2_X_B2_TDM2映射为[B1_X_B1_TDM2,B1_Y_B1_TDM2]"
   ]
  },
  {
   "cell_type": "code",
   "execution_count": 26,
   "id": "1f0f2ab9",
   "metadata": {},
   "outputs": [],
   "source": [
    "X_ULB2_2_1,Y_ULB2_2_1 = df1['U_RBM2X'] - df1['U_RBM1X'],df1['U_RBM2Y'] - df1['U_RBM1Y']\n",
    "X_ULB2_3_1,Y_ULB2_3_1 = df1['U_RBM3X'] - df1['U_RBM1X'],df1['U_RBM3Y'] - df1['U_RBM1Y']\n",
    "UL_X_B2_TDM2 = df1['TDM2X'] - df1['U_RBM1X']\n",
    "UL_Y_B2_TDM2 = df1['TDM2Y'] - df1['U_RBM1Y']"
   ]
  },
  {
   "cell_type": "code",
   "execution_count": 31,
   "id": "6ae7b7a1",
   "metadata": {},
   "outputs": [
    {
     "data": {
      "text/plain": [
       "0.005278765810857469"
      ]
     },
     "execution_count": 31,
     "metadata": {},
     "output_type": "execute_result"
    }
   ],
   "source": [
    "(np.arctan(Y_ULB2_2_1/X_ULB2_2_1)*180/np.pi).std()*3"
   ]
  },
  {
   "cell_type": "code",
   "execution_count": 32,
   "id": "e79d3c27",
   "metadata": {},
   "outputs": [
    {
     "data": {
      "text/plain": [
       "0.0051327468492986025"
      ]
     },
     "execution_count": 32,
     "metadata": {},
     "output_type": "execute_result"
    }
   ],
   "source": [
    "(np.arctan(Y_ULB2_3_1/X_ULB2_3_1)*180/np.pi).std()*3"
   ]
  },
  {
   "cell_type": "code",
   "execution_count": 35,
   "id": "5edb8e19",
   "metadata": {},
   "outputs": [
    {
     "name": "stderr",
     "output_type": "stream",
     "text": [
      "C:\\Users\\yangd\\AppData\\Local\\Temp\\ipykernel_49372\\3753703737.py:16: FutureWarning: Series.__getitem__ treating keys as positions is deprecated. In a future version, integer keys will always be treated as labels (consistent with DataFrame behavior). To access a value by position, use `ser.iloc[pos]`\n",
      "  A_L = np.array([[X_ULB2_2_1[i],X_ULB2_3_1[i]],\n",
      "C:\\Users\\yangd\\AppData\\Local\\Temp\\ipykernel_49372\\3753703737.py:17: FutureWarning: Series.__getitem__ treating keys as positions is deprecated. In a future version, integer keys will always be treated as labels (consistent with DataFrame behavior). To access a value by position, use `ser.iloc[pos]`\n",
      "  [Y_ULB2_2_1[i],Y_ULB2_3_1[i]]])\n",
      "C:\\Users\\yangd\\AppData\\Local\\Temp\\ipykernel_49372\\3753703737.py:21: FutureWarning: Series.__getitem__ treating keys as positions is deprecated. In a future version, integer keys will always be treated as labels (consistent with DataFrame behavior). To access a value by position, use `ser.iloc[pos]`\n",
      "  B_B = np.array([[((X_ULB2_2_1[i])**2 + (Y_ULB2_2_1[i])**2)**0.5, 0                                   ],\n",
      "C:\\Users\\yangd\\AppData\\Local\\Temp\\ipykernel_49372\\3753703737.py:22: FutureWarning: Series.__getitem__ treating keys as positions is deprecated. In a future version, integer keys will always be treated as labels (consistent with DataFrame behavior). To access a value by position, use `ser.iloc[pos]`\n",
      "  [0,                                    ((X_ULB2_3_1[i])**2 + (Y_ULB2_3_1[i])**2)**0.5]])\n",
      "C:\\Users\\yangd\\AppData\\Local\\Temp\\ipykernel_49372\\3753703737.py:28: FutureWarning: Series.__getitem__ treating keys as positions is deprecated. In a future version, integer keys will always be treated as labels (consistent with DataFrame behavior). To access a value by position, use `ser.iloc[pos]`\n",
      "  b = np.array([[UL_X_B2_TDM2[i]],\n",
      "C:\\Users\\yangd\\AppData\\Local\\Temp\\ipykernel_49372\\3753703737.py:29: FutureWarning: Series.__getitem__ treating keys as positions is deprecated. In a future version, integer keys will always be treated as labels (consistent with DataFrame behavior). To access a value by position, use `ser.iloc[pos]`\n",
      "  [UL_Y_B2_TDM2[i]]])\n"
     ]
    }
   ],
   "source": [
    "#经过上视UL到标定片B2的旋转矩阵，将上视定位的TopDieMark2到标定片2原点的结果映射到标定片2坐标系上 [B2_X_B2_TDM2,B2_Y_B2_TDM2]\n",
    "B2_XY_B2_TDM2s = []\n",
    "\n",
    "#旋转矩阵存储\n",
    "R_B2_ULs = []\n",
    "\n",
    "#存储转换到B1标定片下的坐标\n",
    "B1_XY_B1_TDM2s = [] \n",
    "\n",
    "T_B1_B2 = np.array([[1.00000019698036,\t0.000707624373592419,\t11548.444599616],\n",
    "                    [0.000160584018765638,\t1.00000067072042,\t0.854494721912245],\n",
    "                    [0,0,1]])\n",
    "\n",
    "for i in range(len(X_ULB2_2_1)):\n",
    "    #标定片方向矢量在视觉坐标系中的描述\n",
    "    A_L = np.array([[X_ULB2_2_1[i],X_ULB2_3_1[i]],\n",
    "                    [Y_ULB2_2_1[i],Y_ULB2_3_1[i]]])\n",
    "    \n",
    "    #标定片向量矩阵\n",
    "    #标定片方向矢量在自身坐标系中的描述\n",
    "    B_B = np.array([[((X_ULB2_2_1[i])**2 + (Y_ULB2_2_1[i])**2)**0.5, 0                                   ],\n",
    "                    [0,                                    ((X_ULB2_3_1[i])**2 + (Y_ULB2_3_1[i])**2)**0.5]])\n",
    "    #^B1_UL R = B*A^-1从标定片转向上视坐标系的旋转矩阵\n",
    "    R_B_L = np.dot(B_B,np.linalg.inv(A_L))\n",
    "    R_B2_ULs.append(R_B_L)\n",
    "\n",
    "    #变量乘以旋转矩阵\n",
    "    b = np.array([[UL_X_B2_TDM2[i]],\n",
    "                  [UL_Y_B2_TDM2[i]]])    \n",
    "    B2_XY = np.dot(R_B_L,b)\n",
    "    B2_XY_B2_TDM2s.append(B2_XY)\n",
    "\n",
    "    \n",
    "    #通过B2->B1的传递矩阵映射\n",
    "    b2 = np.array([[B2_XY[0][0]],\n",
    "                   [B2_XY[1][0]],\n",
    "                   [1]])\n",
    "    b_B1_XY_B1_TDM2 = np.dot(T_B1_B2,b2)\n",
    "    B1_XY_B1_TDM2s.append(b_B1_XY_B1_TDM2)"
   ]
  },
  {
   "cell_type": "code",
   "execution_count": 36,
   "id": "574afde4",
   "metadata": {},
   "outputs": [
    {
     "name": "stdout",
     "output_type": "stream",
     "text": [
      "Mean_X:  998.7863788837781\n",
      "3sigmaX:  67.7367166244652\n",
      "Mean_Y:  -2217.194220002301\n",
      "3sigmaY:  284.3281393603407\n"
     ]
    },
    {
     "data": {
      "application/vnd.jupyter.widget-view+json": {
       "model_id": "912fad949ee5444e921f8b181f17eaea",
       "version_major": 2,
       "version_minor": 0
      },
      "image/png": "[encoded data removed]",
      "text/html": [
       "\n",
       "            <div style=\"display: inline-block;\">\n",
       "                <div class=\"jupyter-widgets widget-label\" style=\"text-align: center;\">\n",
       "                    Figure\n",
       "                </div>\n",
       "                <img src='data:image/png;base64,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' width=640.0/>\n",
       "            </div>\n",
       "        "
      ],
      "text/plain": [
       "Canvas(toolbar=Toolbar(toolitems=[('Home', 'Reset original view', 'home', 'home'), ('Back', 'Back to previous …"
      ]
     },
     "metadata": {},
     "output_type": "display_data"
    }
   ],
   "source": [
    "#将列表转换为np.array\n",
    "B2_XY_B2_TDM2s = np.array(B2_XY_B2_TDM2s)\n",
    "\n",
    "#X方向坐标\n",
    "B2_X_B2_TDM2s = B2_XY_B2_TDM2s[:,0]\n",
    "print(\"Mean_X: \",B2_X_B2_TDM2s.mean())\n",
    "print(\"3sigmaX: \",B2_X_B2_TDM2s.std()*3)\n",
    "\n",
    "#Y方向坐标\n",
    "B2_Y_B2_TDM2s = B2_XY_B2_TDM2s[:,1]\n",
    "print(\"Mean_Y: \",B2_Y_B2_TDM2s.mean())\n",
    "print(\"3sigmaY: \",B2_Y_B2_TDM2s.std()*3)\n",
    "\n",
    "\n",
    "fig,ax = plt.subplots(1,2)\n",
    "ax[0].hist(B2_X_B2_TDM2s,bins=100)\n",
    "ax[0].set_title(\"X\")\n",
    "ax[1].hist(B2_Y_B2_TDM2s,bins=100)\n",
    "ax[1].set_title(\"Y\")\n",
    "plt.show()"
   ]
  },
  {
   "cell_type": "code",
   "execution_count": 37,
   "id": "a38a7eee",
   "metadata": {},
   "outputs": [
    {
     "name": "stdout",
     "output_type": "stream",
     "text": [
      "Mean_X:  12545.662234570016\n",
      "3sigmaX:  67.78745697786795\n",
      "Mean_Y:  -2216.1808232672183\n",
      "3sigmaY:  284.33105761007664\n"
     ]
    },
    {
     "data": {
      "application/vnd.jupyter.widget-view+json": {
       "model_id": "47ae915f5835492aa3c7a3e7e9e98bba",
       "version_major": 2,
       "version_minor": 0
      },
      "image/png": "[encoded data removed]",
      "text/html": [
       "\n",
       "            <div style=\"display: inline-block;\">\n",
       "                <div class=\"jupyter-widgets widget-label\" style=\"text-align: center;\">\n",
       "                    Figure\n",
       "                </div>\n",
       "                <img src='data:image/png;base64,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' width=640.0/>\n",
       "            </div>\n",
       "        "
      ],
      "text/plain": [
       "Canvas(toolbar=Toolbar(toolitems=[('Home', 'Reset original view', 'home', 'home'), ('Back', 'Back to previous …"
      ]
     },
     "metadata": {},
     "output_type": "display_data"
    }
   ],
   "source": [
    "#将列表转换为np.array\n",
    "B1_XY_B1_TDM2s = np.array(B1_XY_B1_TDM2s)\n",
    "#X方向坐标\n",
    "B1_X_B1_TDM2s = B1_XY_B1_TDM2s[:,0]\n",
    "print(\"Mean_X: \",B1_X_B1_TDM2s.mean())\n",
    "print(\"3sigmaX: \",B1_X_B1_TDM2s.std()*3)\n",
    "#Y方向坐标\n",
    "B1_Y_B1_TDM2s = B1_XY_B1_TDM2s[:,1]\n",
    "print(\"Mean_Y: \",B1_Y_B1_TDM2s.mean())\n",
    "print(\"3sigmaY: \",B1_Y_B1_TDM2s.std()*3)\n",
    "\n",
    "fig,ax = plt.subplots(1,2)\n",
    "ax[0].hist(B1_X_B1_TDM2s,bins=100)\n",
    "ax[1].hist(B1_Y_B1_TDM2s,bins=100)\n",
    "plt.show()"
   ]
  },
  {
   "cell_type": "code",
   "execution_count": 38,
   "id": "3da06f14",
   "metadata": {},
   "outputs": [
    {
     "data": {
      "text/plain": [
       "13836.343890550499"
      ]
     },
     "execution_count": 38,
     "metadata": {},
     "output_type": "execute_result"
    }
   ],
   "source": [
    "TopDieMarkLength = ((B1_X_B1_TDM2s - B1_X_B1_TDM1s)**2 + (B1_Y_B1_TDM2s - B1_Y_B1_TDM1s)**2)**0.5\n",
    "TopDieMarkLength.mean()"
   ]
  },
  {
   "cell_type": "code",
   "execution_count": 39,
   "id": "16c0fe94",
   "metadata": {},
   "outputs": [
    {
     "data": {
      "text/plain": [
       "5.898888765859403"
      ]
     },
     "execution_count": 39,
     "metadata": {},
     "output_type": "execute_result"
    }
   ],
   "source": [
    "TopDieMarkLength.std()*3"
   ]
  },
  {
   "cell_type": "code",
   "execution_count": null,
   "id": "946890ed",
   "metadata": {},
   "outputs": [],
   "source": []
  },
  {
   "cell_type": "code",
   "execution_count": null,
   "id": "f805ef54",
   "metadata": {},
   "outputs": [],
   "source": []
  },
  {
   "cell_type": "code",
   "execution_count": null,
   "id": "3ee2104d",
   "metadata": {},
   "outputs": [],
   "source": [
    "all_data['BATL'].to_excel('626BATL.xlsx')"
   ]
  },
  {
   "cell_type": "code",
   "execution_count": 46,
   "id": "3cb5f459",
   "metadata": {},
   "outputs": [],
   "source": [
    "all_data['BATL'].to_excel('626BATL.xlsx')"
   ]
  },
  {
   "cell_type": "code",
   "execution_count": 47,
   "id": "d7493b43",
   "metadata": {},
   "outputs": [],
   "source": [
    "all_data['CorOver'].to_excel('626CorOver.xlsx')"
   ]
  },
  {
   "cell_type": "code",
   "execution_count": 26,
   "id": "50bded24-ad24-44b6-ae11-872528d165b9",
   "metadata": {
    "tags": []
   },
   "outputs": [],
   "source": [
    "for i in [i for i in all_data][:-1]:\n",
    "    index = []\n",
    "    #j是时间索引\n",
    "    for j in all_data['Bond_XY'].index:\n",
    "        index.append(all_data[i][all_data[i].index < j].index[-1])\n",
    "    all_data[i] = all_data[i].loc[index]\n",
    "    all_data['Bond_XY'][list(all_data[i].columns)] = all_data[i].values"
   ]
  },
  {
   "cell_type": "code",
   "execution_count": 27,
   "id": "4db062d9-5c58-4018-ab64-1c54e2a5f9bf",
   "metadata": {
    "tags": []
   },
   "outputs": [],
   "source": [
    "all_data['Bond_XY'].to_excel('logdata319.xlsx')"
   ]
  },
  {
   "cell_type": "code",
   "execution_count": null,
   "id": "29bf7927-dcbb-40b4-9e00-9a11fbf9d907",
   "metadata": {
    "tags": []
   },
   "outputs": [],
   "source": [
    "line.split('，')[1]"
   ]
  },
  {
   "cell_type": "code",
   "execution_count": null,
   "id": "970ea0c7-5d11-4c5e-957a-fe53c399e691",
   "metadata": {
    "tags": []
   },
   "outputs": [],
   "source": [
    "line.split('，')[1].split('Slot')"
   ]
  },
  {
   "cell_type": "code",
   "execution_count": null,
   "id": "2d1126d5-6deb-4f8f-ab68-67782e04f3a0",
   "metadata": {
    "tags": []
   },
   "outputs": [],
   "source": []
  },
  {
   "cell_type": "code",
   "execution_count": null,
   "id": "551391b1-0f0b-4dc2-8c17-9b2524e4ab58",
   "metadata": {
    "tags": []
   },
   "outputs": [],
   "source": []
  },
  {
   "cell_type": "code",
   "execution_count": null,
   "id": "ac675a62-9fe3-405a-aca9-60cd256df6b3",
   "metadata": {},
   "outputs": [],
   "source": [
    "map_xy_path = '../BottomWafer.xlsx'\n",
    "map_xy_data = pd.read_excel(map_xy_path).set_index('芯片号')\n",
    "map_xy_data"
   ]
  },
  {
   "cell_type": "code",
   "execution_count": null,
   "id": "fd30e0e0-2ceb-4a6e-8988-29ec61bb0e97",
   "metadata": {},
   "outputs": [],
   "source": [
    "die2_10 = pd.read_excel('logdata710.xlsx',sheet_name='Die2倒数157片',index_col=2)\n",
    "high_map = pd.concat([map_xy_data,die2_10['high']],axis=1)\n",
    "high_map"
   ]
  },
  {
   "cell_type": "code",
   "execution_count": null,
   "id": "7213d108-294b-4d77-a0cc-ac8815375943",
   "metadata": {},
   "outputs": [],
   "source": [
    "X = high_map['P_X']\n",
    "Y = high_map['P_Y']\n",
    "Z = high_map['high']\n",
    "fig = plt.figure()\n",
    "ax = plt.axes(projection='3d')\n",
    "ax.plot_trisurf(X,Y,Z,cmap='coolwarm')\n",
    "plt.show()"
   ]
  },
  {
   "cell_type": "code",
   "execution_count": null,
   "id": "23528ca9-317c-474e-b0c1-2e0ca03ac5a7",
   "metadata": {},
   "outputs": [],
   "source": [
    "from mpl_toolkits.mplot3d import Axes3D\n",
    "from matplotlib import colormaps\n",
    "colors = colormaps.get_cmap('coolwarm')\n",
    "col = colors((Z-Z.mean())/(Z.min()-Z.max()))\n",
    "fig = plt.figure()\n",
    "ax1 = plt.axes(projection='3d')\n",
    "dx = 100*np.ones_like(X)\n",
    "dy = dx.copy()\n",
    "dz = 50*np.ones_like(Z)\n",
    "# for i in range(len(X)):\n",
    "#     ax1.bar3d(X.values[i],Y.values[i],Z.values[i],dx[i],dy[i],dz[i],color=col[i],data=Z)\n",
    "ax1.bar3d(X,Y,Z,dx,dy,dz,color=col)\n",
    "ax1.set_xlabel('X(左-右)')\n",
    "ax1.set_ylabel('Y(下-上)')\n",
    "plt.show()"
   ]
  },
  {
   "cell_type": "code",
   "execution_count": null,
   "id": "16c4dfc4-2ae9-4cd9-988f-0a85494ca107",
   "metadata": {},
   "outputs": [],
   "source": [
    "plt.figure()\n",
    "plt.quiver(high_map[\"P_X\"],high_map[\"P_Y\"],high_map[\"high\"],high_map[\"high\"],\n",
    "           high_map[\"high\"], cmap=\"coolwarm\", units='xy')\n",
    "for i in high_map.index:\n",
    "    plt.annotate(i, xy=(high_map.loc[i,\"P_X\"],high_map.loc[i,\"P_Y\"]),\n",
    "                 xytext=(high_map.loc[i,\"P_X\"],high_map.loc[i,\"P_Y\"]),\n",
    "                 color=\"k\")\n",
    "plt.xlim(-1200,1200)\n",
    "plt.ylim(-1500,1500)\n",
    "plt.colorbar()\n",
    "plt.title('键合高度(单位:um)')\n",
    "plt.show()"
   ]
  },
  {
   "cell_type": "code",
   "execution_count": null,
   "id": "112ae307-21a1-4fe2-b036-37150e5e88b7",
   "metadata": {},
   "outputs": [],
   "source": []
  }
 ],
 "metadata": {
  "kernelspec": {
   "display_name": "Python 3 (ipykernel)",
   "language": "python",
   "name": "python3"
  },
  "language_info": {
   "codemirror_mode": {
    "name": "ipython",
    "version": 3
   },
   "file_extension": ".py",
   "mimetype": "text/x-python",
   "name": "python",
   "nbconvert_exporter": "python",
   "pygments_lexer": "ipython3",
   "version": "3.9.13"
  },
  "widgets": {
   "application/vnd.jupyter.widget-state+json": {
    "state": {},
    "version_major": 2,
    "version_minor": 0
   }
  }
 },
 "nbformat": 4,
 "nbformat_minor": 5
}
